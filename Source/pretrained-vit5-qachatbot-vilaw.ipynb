{
 "cells": [
  {
   "cell_type": "markdown",
   "metadata": {},
   "source": [
    "# Prepare data"
   ]
  },
  {
   "cell_type": "code",
   "execution_count": 1,
   "metadata": {
    "execution": {
     "iopub.execute_input": "2025-01-29T08:11:32.122780Z",
     "iopub.status.busy": "2025-01-29T08:11:32.122353Z",
     "iopub.status.idle": "2025-01-29T08:12:59.132989Z",
     "shell.execute_reply": "2025-01-29T08:12:59.131762Z",
     "shell.execute_reply.started": "2025-01-29T08:11:32.122737Z"
    },
    "scrolled": true,
    "trusted": true
   },
   "outputs": [
    {
     "name": "stdout",
     "output_type": "stream",
     "text": [
      "Collecting evaluate\n",
      "  Downloading evaluate-0.4.3-py3-none-any.whl.metadata (9.2 kB)\n",
      "Requirement already satisfied: datasets>=2.0.0 in /opt/conda/lib/python3.10/site-packages (from evaluate) (3.0.1)\n",
      "Requirement already satisfied: numpy>=1.17 in /opt/conda/lib/python3.10/site-packages (from evaluate) (1.26.4)\n",
      "Requirement already satisfied: dill in /opt/conda/lib/python3.10/site-packages (from evaluate) (0.3.8)\n",
      "Requirement already satisfied: pandas in /opt/conda/lib/python3.10/site-packages (from evaluate) (2.2.2)\n",
      "Requirement already satisfied: requests>=2.19.0 in /opt/conda/lib/python3.10/site-packages (from evaluate) (2.32.3)\n",
      "Requirement already satisfied: tqdm>=4.62.1 in /opt/conda/lib/python3.10/site-packages (from evaluate) (4.66.4)\n",
      "Requirement already satisfied: xxhash in /opt/conda/lib/python3.10/site-packages (from evaluate) (3.4.1)\n",
      "Requirement already satisfied: multiprocess in /opt/conda/lib/python3.10/site-packages (from evaluate) (0.70.16)\n",
      "Requirement already satisfied: fsspec>=2021.05.0 in /opt/conda/lib/python3.10/site-packages (from fsspec[http]>=2021.05.0->evaluate) (2024.6.1)\n",
      "Requirement already satisfied: huggingface-hub>=0.7.0 in /opt/conda/lib/python3.10/site-packages (from evaluate) (0.25.1)\n",
      "Requirement already satisfied: packaging in /opt/conda/lib/python3.10/site-packages (from evaluate) (21.3)\n",
      "Requirement already satisfied: filelock in /opt/conda/lib/python3.10/site-packages (from datasets>=2.0.0->evaluate) (3.15.1)\n",
      "Requirement already satisfied: pyarrow>=15.0.0 in /opt/conda/lib/python3.10/site-packages (from datasets>=2.0.0->evaluate) (16.1.0)\n",
      "Requirement already satisfied: aiohttp in /opt/conda/lib/python3.10/site-packages (from datasets>=2.0.0->evaluate) (3.9.5)\n",
      "Requirement already satisfied: pyyaml>=5.1 in /opt/conda/lib/python3.10/site-packages (from datasets>=2.0.0->evaluate) (6.0.2)\n",
      "Requirement already satisfied: typing-extensions>=3.7.4.3 in /opt/conda/lib/python3.10/site-packages (from huggingface-hub>=0.7.0->evaluate) (4.12.2)\n",
      "Requirement already satisfied: pyparsing!=3.0.5,>=2.0.2 in /opt/conda/lib/python3.10/site-packages (from packaging->evaluate) (3.1.2)\n",
      "Requirement already satisfied: charset-normalizer<4,>=2 in /opt/conda/lib/python3.10/site-packages (from requests>=2.19.0->evaluate) (3.3.2)\n",
      "Requirement already satisfied: idna<4,>=2.5 in /opt/conda/lib/python3.10/site-packages (from requests>=2.19.0->evaluate) (3.7)\n",
      "Requirement already satisfied: urllib3<3,>=1.21.1 in /opt/conda/lib/python3.10/site-packages (from requests>=2.19.0->evaluate) (1.26.18)\n",
      "Requirement already satisfied: certifi>=2017.4.17 in /opt/conda/lib/python3.10/site-packages (from requests>=2.19.0->evaluate) (2024.8.30)\n",
      "Requirement already satisfied: python-dateutil>=2.8.2 in /opt/conda/lib/python3.10/site-packages (from pandas->evaluate) (2.9.0.post0)\n",
      "Requirement already satisfied: pytz>=2020.1 in /opt/conda/lib/python3.10/site-packages (from pandas->evaluate) (2024.1)\n",
      "Requirement already satisfied: tzdata>=2022.7 in /opt/conda/lib/python3.10/site-packages (from pandas->evaluate) (2024.1)\n",
      "Requirement already satisfied: aiosignal>=1.1.2 in /opt/conda/lib/python3.10/site-packages (from aiohttp->datasets>=2.0.0->evaluate) (1.3.1)\n",
      "Requirement already satisfied: attrs>=17.3.0 in /opt/conda/lib/python3.10/site-packages (from aiohttp->datasets>=2.0.0->evaluate) (23.2.0)\n",
      "Requirement already satisfied: frozenlist>=1.1.1 in /opt/conda/lib/python3.10/site-packages (from aiohttp->datasets>=2.0.0->evaluate) (1.4.1)\n",
      "Requirement already satisfied: multidict<7.0,>=4.5 in /opt/conda/lib/python3.10/site-packages (from aiohttp->datasets>=2.0.0->evaluate) (6.0.5)\n",
      "Requirement already satisfied: yarl<2.0,>=1.0 in /opt/conda/lib/python3.10/site-packages (from aiohttp->datasets>=2.0.0->evaluate) (1.9.4)\n",
      "Requirement already satisfied: async-timeout<5.0,>=4.0 in /opt/conda/lib/python3.10/site-packages (from aiohttp->datasets>=2.0.0->evaluate) (4.0.3)\n",
      "Requirement already satisfied: six>=1.5 in /opt/conda/lib/python3.10/site-packages (from python-dateutil>=2.8.2->pandas->evaluate) (1.16.0)\n",
      "Downloading evaluate-0.4.3-py3-none-any.whl (84 kB)\n",
      "\u001b[2K   \u001b[90m━━━━━━━━━━━━━━━━━━━━━━━━━━━━━━━━━━━━━━━━\u001b[0m \u001b[32m84.0/84.0 kB\u001b[0m \u001b[31m2.3 MB/s\u001b[0m eta \u001b[36m0:00:00\u001b[0m\n",
      "\u001b[?25hInstalling collected packages: evaluate\n",
      "Successfully installed evaluate-0.4.3\n",
      "Collecting faiss-cpu\n",
      "  Downloading faiss_cpu-1.9.0.post1-cp310-cp310-manylinux_2_17_x86_64.manylinux2014_x86_64.whl.metadata (4.4 kB)\n",
      "Requirement already satisfied: numpy<3.0,>=1.25.0 in /opt/conda/lib/python3.10/site-packages (from faiss-cpu) (1.26.4)\n",
      "Requirement already satisfied: packaging in /opt/conda/lib/python3.10/site-packages (from faiss-cpu) (21.3)\n",
      "Requirement already satisfied: pyparsing!=3.0.5,>=2.0.2 in /opt/conda/lib/python3.10/site-packages (from packaging->faiss-cpu) (3.1.2)\n",
      "Downloading faiss_cpu-1.9.0.post1-cp310-cp310-manylinux_2_17_x86_64.manylinux2014_x86_64.whl (27.5 MB)\n",
      "\u001b[2K   \u001b[90m━━━━━━━━━━━━━━━━━━━━━━━━━━━━━━━━━━━━━━━━\u001b[0m \u001b[32m27.5/27.5 MB\u001b[0m \u001b[31m59.0 MB/s\u001b[0m eta \u001b[36m0:00:00\u001b[0m:00:01\u001b[0m00:01\u001b[0m\n",
      "\u001b[?25hInstalling collected packages: faiss-cpu\n",
      "Successfully installed faiss-cpu-1.9.0.post1\n",
      "Collecting rouge_score\n",
      "  Downloading rouge_score-0.1.2.tar.gz (17 kB)\n",
      "  Preparing metadata (setup.py) ... \u001b[?25ldone\n",
      "\u001b[?25hRequirement already satisfied: absl-py in /opt/conda/lib/python3.10/site-packages (from rouge_score) (1.4.0)\n",
      "Requirement already satisfied: nltk in /opt/conda/lib/python3.10/site-packages (from rouge_score) (3.2.4)\n",
      "Requirement already satisfied: numpy in /opt/conda/lib/python3.10/site-packages (from rouge_score) (1.26.4)\n",
      "Requirement already satisfied: six>=1.14.0 in /opt/conda/lib/python3.10/site-packages (from rouge_score) (1.16.0)\n",
      "Building wheels for collected packages: rouge_score\n",
      "  Building wheel for rouge_score (setup.py) ... \u001b[?25ldone\n",
      "\u001b[?25h  Created wheel for rouge_score: filename=rouge_score-0.1.2-py3-none-any.whl size=24934 sha256=b855832462cdcffcfe89dc04a0be08ec2173645b9029ac96347a040823b88462\n",
      "  Stored in directory: /root/.cache/pip/wheels/5f/dd/89/461065a73be61a532ff8599a28e9beef17985c9e9c31e541b4\n",
      "Successfully built rouge_score\n",
      "Installing collected packages: rouge_score\n",
      "Successfully installed rouge_score-0.1.2\n",
      "Collecting bert-score\n",
      "  Downloading bert_score-0.3.13-py3-none-any.whl.metadata (15 kB)\n",
      "Requirement already satisfied: torch>=1.0.0 in /opt/conda/lib/python3.10/site-packages (from bert-score) (2.4.0)\n",
      "Requirement already satisfied: pandas>=1.0.1 in /opt/conda/lib/python3.10/site-packages (from bert-score) (2.2.2)\n",
      "Requirement already satisfied: transformers>=3.0.0 in /opt/conda/lib/python3.10/site-packages (from bert-score) (4.45.1)\n",
      "Requirement already satisfied: numpy in /opt/conda/lib/python3.10/site-packages (from bert-score) (1.26.4)\n",
      "Requirement already satisfied: requests in /opt/conda/lib/python3.10/site-packages (from bert-score) (2.32.3)\n",
      "Requirement already satisfied: tqdm>=4.31.1 in /opt/conda/lib/python3.10/site-packages (from bert-score) (4.66.4)\n",
      "Requirement already satisfied: matplotlib in /opt/conda/lib/python3.10/site-packages (from bert-score) (3.7.5)\n",
      "Requirement already satisfied: packaging>=20.9 in /opt/conda/lib/python3.10/site-packages (from bert-score) (21.3)\n",
      "Requirement already satisfied: pyparsing!=3.0.5,>=2.0.2 in /opt/conda/lib/python3.10/site-packages (from packaging>=20.9->bert-score) (3.1.2)\n",
      "Requirement already satisfied: python-dateutil>=2.8.2 in /opt/conda/lib/python3.10/site-packages (from pandas>=1.0.1->bert-score) (2.9.0.post0)\n",
      "Requirement already satisfied: pytz>=2020.1 in /opt/conda/lib/python3.10/site-packages (from pandas>=1.0.1->bert-score) (2024.1)\n",
      "Requirement already satisfied: tzdata>=2022.7 in /opt/conda/lib/python3.10/site-packages (from pandas>=1.0.1->bert-score) (2024.1)\n",
      "Requirement already satisfied: filelock in /opt/conda/lib/python3.10/site-packages (from torch>=1.0.0->bert-score) (3.15.1)\n",
      "Requirement already satisfied: typing-extensions>=4.8.0 in /opt/conda/lib/python3.10/site-packages (from torch>=1.0.0->bert-score) (4.12.2)\n",
      "Requirement already satisfied: sympy in /opt/conda/lib/python3.10/site-packages (from torch>=1.0.0->bert-score) (1.13.3)\n",
      "Requirement already satisfied: networkx in /opt/conda/lib/python3.10/site-packages (from torch>=1.0.0->bert-score) (3.3)\n",
      "Requirement already satisfied: jinja2 in /opt/conda/lib/python3.10/site-packages (from torch>=1.0.0->bert-score) (3.1.4)\n",
      "Requirement already satisfied: fsspec in /opt/conda/lib/python3.10/site-packages (from torch>=1.0.0->bert-score) (2024.6.1)\n",
      "Requirement already satisfied: huggingface-hub<1.0,>=0.23.2 in /opt/conda/lib/python3.10/site-packages (from transformers>=3.0.0->bert-score) (0.25.1)\n",
      "Requirement already satisfied: pyyaml>=5.1 in /opt/conda/lib/python3.10/site-packages (from transformers>=3.0.0->bert-score) (6.0.2)\n",
      "Requirement already satisfied: regex!=2019.12.17 in /opt/conda/lib/python3.10/site-packages (from transformers>=3.0.0->bert-score) (2024.5.15)\n",
      "Requirement already satisfied: safetensors>=0.4.1 in /opt/conda/lib/python3.10/site-packages (from transformers>=3.0.0->bert-score) (0.4.5)\n",
      "Requirement already satisfied: tokenizers<0.21,>=0.20 in /opt/conda/lib/python3.10/site-packages (from transformers>=3.0.0->bert-score) (0.20.0)\n",
      "Requirement already satisfied: contourpy>=1.0.1 in /opt/conda/lib/python3.10/site-packages (from matplotlib->bert-score) (1.2.1)\n",
      "Requirement already satisfied: cycler>=0.10 in /opt/conda/lib/python3.10/site-packages (from matplotlib->bert-score) (0.12.1)\n",
      "Requirement already satisfied: fonttools>=4.22.0 in /opt/conda/lib/python3.10/site-packages (from matplotlib->bert-score) (4.53.0)\n",
      "Requirement already satisfied: kiwisolver>=1.0.1 in /opt/conda/lib/python3.10/site-packages (from matplotlib->bert-score) (1.4.5)\n",
      "Requirement already satisfied: pillow>=6.2.0 in /opt/conda/lib/python3.10/site-packages (from matplotlib->bert-score) (10.3.0)\n",
      "Requirement already satisfied: charset-normalizer<4,>=2 in /opt/conda/lib/python3.10/site-packages (from requests->bert-score) (3.3.2)\n",
      "Requirement already satisfied: idna<4,>=2.5 in /opt/conda/lib/python3.10/site-packages (from requests->bert-score) (3.7)\n",
      "Requirement already satisfied: urllib3<3,>=1.21.1 in /opt/conda/lib/python3.10/site-packages (from requests->bert-score) (1.26.18)\n",
      "Requirement already satisfied: certifi>=2017.4.17 in /opt/conda/lib/python3.10/site-packages (from requests->bert-score) (2024.8.30)\n",
      "Requirement already satisfied: six>=1.5 in /opt/conda/lib/python3.10/site-packages (from python-dateutil>=2.8.2->pandas>=1.0.1->bert-score) (1.16.0)\n",
      "Requirement already satisfied: MarkupSafe>=2.0 in /opt/conda/lib/python3.10/site-packages (from jinja2->torch>=1.0.0->bert-score) (2.1.5)\n",
      "Requirement already satisfied: mpmath<1.4,>=1.1.0 in /opt/conda/lib/python3.10/site-packages (from sympy->torch>=1.0.0->bert-score) (1.3.0)\n",
      "Downloading bert_score-0.3.13-py3-none-any.whl (61 kB)\n",
      "\u001b[2K   \u001b[90m━━━━━━━━━━━━━━━━━━━━━━━━━━━━━━━━━━━━━━━━\u001b[0m \u001b[32m61.1/61.1 kB\u001b[0m \u001b[31m2.0 MB/s\u001b[0m eta \u001b[36m0:00:00\u001b[0m\n",
      "\u001b[?25hInstalling collected packages: bert-score\n",
      "Successfully installed bert-score-0.3.13\n",
      "Collecting python-docx\n",
      "  Downloading python_docx-1.1.2-py3-none-any.whl.metadata (2.0 kB)\n",
      "Requirement already satisfied: lxml>=3.1.0 in /opt/conda/lib/python3.10/site-packages (from python-docx) (5.3.0)\n",
      "Requirement already satisfied: typing-extensions>=4.9.0 in /opt/conda/lib/python3.10/site-packages (from python-docx) (4.12.2)\n",
      "Downloading python_docx-1.1.2-py3-none-any.whl (244 kB)\n",
      "\u001b[2K   \u001b[90m━━━━━━━━━━━━━━━━━━━━━━━━━━━━━━━━━━━━━━━━\u001b[0m \u001b[32m244.3/244.3 kB\u001b[0m \u001b[31m5.1 MB/s\u001b[0m eta \u001b[36m0:00:00\u001b[0ma \u001b[36m0:00:01\u001b[0m\n",
      "\u001b[?25hInstalling collected packages: python-docx\n",
      "Successfully installed python-docx-1.1.2\n",
      "Collecting kaggle-environments==1.14.14\n",
      "  Downloading kaggle_environments-1.14.14-py2.py3-none-any.whl.metadata (10 kB)\n",
      "Requirement already satisfied: Flask>=1.1.2 in /opt/conda/lib/python3.10/site-packages (from kaggle-environments==1.14.14) (3.0.3)\n",
      "Requirement already satisfied: gymnasium==0.29.0 in /opt/conda/lib/python3.10/site-packages (from kaggle-environments==1.14.14) (0.29.0)\n",
      "Requirement already satisfied: jsonschema>=3.0.1 in /opt/conda/lib/python3.10/site-packages (from kaggle-environments==1.14.14) (4.22.0)\n",
      "Requirement already satisfied: numpy>=1.19.5 in /opt/conda/lib/python3.10/site-packages (from kaggle-environments==1.14.14) (1.26.4)\n",
      "Requirement already satisfied: pettingzoo==1.24.0 in /opt/conda/lib/python3.10/site-packages (from kaggle-environments==1.14.14) (1.24.0)\n",
      "Requirement already satisfied: requests>=2.25.1 in /opt/conda/lib/python3.10/site-packages (from kaggle-environments==1.14.14) (2.32.3)\n",
      "Requirement already satisfied: scipy>=1.11.2 in /opt/conda/lib/python3.10/site-packages (from kaggle-environments==1.14.14) (1.14.1)\n",
      "Requirement already satisfied: shimmy>=1.2.1 in /opt/conda/lib/python3.10/site-packages (from kaggle-environments==1.14.14) (1.3.0)\n",
      "Requirement already satisfied: stable-baselines3==2.1.0 in /opt/conda/lib/python3.10/site-packages (from kaggle-environments==1.14.14) (2.1.0)\n",
      "Requirement already satisfied: transformers>=4.33.1 in /opt/conda/lib/python3.10/site-packages (from kaggle-environments==1.14.14) (4.45.1)\n",
      "Requirement already satisfied: vec-noise>=1.1.4 in /opt/conda/lib/python3.10/site-packages (from kaggle-environments==1.14.14) (1.1.4)\n",
      "Requirement already satisfied: cloudpickle>=1.2.0 in /opt/conda/lib/python3.10/site-packages (from gymnasium==0.29.0->kaggle-environments==1.14.14) (3.0.0)\n",
      "Requirement already satisfied: typing-extensions>=4.3.0 in /opt/conda/lib/python3.10/site-packages (from gymnasium==0.29.0->kaggle-environments==1.14.14) (4.12.2)\n",
      "Requirement already satisfied: farama-notifications>=0.0.1 in /opt/conda/lib/python3.10/site-packages (from gymnasium==0.29.0->kaggle-environments==1.14.14) (0.0.4)\n",
      "Requirement already satisfied: torch>=1.13 in /opt/conda/lib/python3.10/site-packages (from stable-baselines3==2.1.0->kaggle-environments==1.14.14) (2.4.0)\n",
      "Requirement already satisfied: pandas in /opt/conda/lib/python3.10/site-packages (from stable-baselines3==2.1.0->kaggle-environments==1.14.14) (2.2.2)\n",
      "Requirement already satisfied: matplotlib in /opt/conda/lib/python3.10/site-packages (from stable-baselines3==2.1.0->kaggle-environments==1.14.14) (3.7.5)\n",
      "Requirement already satisfied: Werkzeug>=3.0.0 in /opt/conda/lib/python3.10/site-packages (from Flask>=1.1.2->kaggle-environments==1.14.14) (3.0.4)\n",
      "Requirement already satisfied: Jinja2>=3.1.2 in /opt/conda/lib/python3.10/site-packages (from Flask>=1.1.2->kaggle-environments==1.14.14) (3.1.4)\n",
      "Requirement already satisfied: itsdangerous>=2.1.2 in /opt/conda/lib/python3.10/site-packages (from Flask>=1.1.2->kaggle-environments==1.14.14) (2.2.0)\n",
      "Requirement already satisfied: click>=8.1.3 in /opt/conda/lib/python3.10/site-packages (from Flask>=1.1.2->kaggle-environments==1.14.14) (8.1.7)\n",
      "Requirement already satisfied: blinker>=1.6.2 in /opt/conda/lib/python3.10/site-packages (from Flask>=1.1.2->kaggle-environments==1.14.14) (1.8.2)\n",
      "Requirement already satisfied: attrs>=22.2.0 in /opt/conda/lib/python3.10/site-packages (from jsonschema>=3.0.1->kaggle-environments==1.14.14) (23.2.0)\n",
      "Requirement already satisfied: jsonschema-specifications>=2023.03.6 in /opt/conda/lib/python3.10/site-packages (from jsonschema>=3.0.1->kaggle-environments==1.14.14) (2023.12.1)\n",
      "Requirement already satisfied: referencing>=0.28.4 in /opt/conda/lib/python3.10/site-packages (from jsonschema>=3.0.1->kaggle-environments==1.14.14) (0.35.1)\n",
      "Requirement already satisfied: rpds-py>=0.7.1 in /opt/conda/lib/python3.10/site-packages (from jsonschema>=3.0.1->kaggle-environments==1.14.14) (0.18.1)\n",
      "Requirement already satisfied: charset-normalizer<4,>=2 in /opt/conda/lib/python3.10/site-packages (from requests>=2.25.1->kaggle-environments==1.14.14) (3.3.2)\n",
      "Requirement already satisfied: idna<4,>=2.5 in /opt/conda/lib/python3.10/site-packages (from requests>=2.25.1->kaggle-environments==1.14.14) (3.7)\n",
      "Requirement already satisfied: urllib3<3,>=1.21.1 in /opt/conda/lib/python3.10/site-packages (from requests>=2.25.1->kaggle-environments==1.14.14) (1.26.18)\n",
      "Requirement already satisfied: certifi>=2017.4.17 in /opt/conda/lib/python3.10/site-packages (from requests>=2.25.1->kaggle-environments==1.14.14) (2024.8.30)\n",
      "Requirement already satisfied: filelock in /opt/conda/lib/python3.10/site-packages (from transformers>=4.33.1->kaggle-environments==1.14.14) (3.15.1)\n",
      "Requirement already satisfied: huggingface-hub<1.0,>=0.23.2 in /opt/conda/lib/python3.10/site-packages (from transformers>=4.33.1->kaggle-environments==1.14.14) (0.25.1)\n",
      "Requirement already satisfied: packaging>=20.0 in /opt/conda/lib/python3.10/site-packages (from transformers>=4.33.1->kaggle-environments==1.14.14) (21.3)\n",
      "Requirement already satisfied: pyyaml>=5.1 in /opt/conda/lib/python3.10/site-packages (from transformers>=4.33.1->kaggle-environments==1.14.14) (6.0.2)\n",
      "Requirement already satisfied: regex!=2019.12.17 in /opt/conda/lib/python3.10/site-packages (from transformers>=4.33.1->kaggle-environments==1.14.14) (2024.5.15)\n",
      "Requirement already satisfied: safetensors>=0.4.1 in /opt/conda/lib/python3.10/site-packages (from transformers>=4.33.1->kaggle-environments==1.14.14) (0.4.5)\n",
      "Requirement already satisfied: tokenizers<0.21,>=0.20 in /opt/conda/lib/python3.10/site-packages (from transformers>=4.33.1->kaggle-environments==1.14.14) (0.20.0)\n",
      "Requirement already satisfied: tqdm>=4.27 in /opt/conda/lib/python3.10/site-packages (from transformers>=4.33.1->kaggle-environments==1.14.14) (4.66.4)\n",
      "Requirement already satisfied: fsspec>=2023.5.0 in /opt/conda/lib/python3.10/site-packages (from huggingface-hub<1.0,>=0.23.2->transformers>=4.33.1->kaggle-environments==1.14.14) (2024.6.1)\n",
      "Requirement already satisfied: MarkupSafe>=2.0 in /opt/conda/lib/python3.10/site-packages (from Jinja2>=3.1.2->Flask>=1.1.2->kaggle-environments==1.14.14) (2.1.5)\n",
      "Requirement already satisfied: pyparsing!=3.0.5,>=2.0.2 in /opt/conda/lib/python3.10/site-packages (from packaging>=20.0->transformers>=4.33.1->kaggle-environments==1.14.14) (3.1.2)\n",
      "Requirement already satisfied: sympy in /opt/conda/lib/python3.10/site-packages (from torch>=1.13->stable-baselines3==2.1.0->kaggle-environments==1.14.14) (1.13.3)\n",
      "Requirement already satisfied: networkx in /opt/conda/lib/python3.10/site-packages (from torch>=1.13->stable-baselines3==2.1.0->kaggle-environments==1.14.14) (3.3)\n",
      "Requirement already satisfied: contourpy>=1.0.1 in /opt/conda/lib/python3.10/site-packages (from matplotlib->stable-baselines3==2.1.0->kaggle-environments==1.14.14) (1.2.1)\n",
      "Requirement already satisfied: cycler>=0.10 in /opt/conda/lib/python3.10/site-packages (from matplotlib->stable-baselines3==2.1.0->kaggle-environments==1.14.14) (0.12.1)\n",
      "Requirement already satisfied: fonttools>=4.22.0 in /opt/conda/lib/python3.10/site-packages (from matplotlib->stable-baselines3==2.1.0->kaggle-environments==1.14.14) (4.53.0)\n",
      "Requirement already satisfied: kiwisolver>=1.0.1 in /opt/conda/lib/python3.10/site-packages (from matplotlib->stable-baselines3==2.1.0->kaggle-environments==1.14.14) (1.4.5)\n",
      "Requirement already satisfied: pillow>=6.2.0 in /opt/conda/lib/python3.10/site-packages (from matplotlib->stable-baselines3==2.1.0->kaggle-environments==1.14.14) (10.3.0)\n",
      "Requirement already satisfied: python-dateutil>=2.7 in /opt/conda/lib/python3.10/site-packages (from matplotlib->stable-baselines3==2.1.0->kaggle-environments==1.14.14) (2.9.0.post0)\n",
      "Requirement already satisfied: pytz>=2020.1 in /opt/conda/lib/python3.10/site-packages (from pandas->stable-baselines3==2.1.0->kaggle-environments==1.14.14) (2024.1)\n",
      "Requirement already satisfied: tzdata>=2022.7 in /opt/conda/lib/python3.10/site-packages (from pandas->stable-baselines3==2.1.0->kaggle-environments==1.14.14) (2024.1)\n",
      "Requirement already satisfied: six>=1.5 in /opt/conda/lib/python3.10/site-packages (from python-dateutil>=2.7->matplotlib->stable-baselines3==2.1.0->kaggle-environments==1.14.14) (1.16.0)\n",
      "Requirement already satisfied: mpmath<1.4,>=1.1.0 in /opt/conda/lib/python3.10/site-packages (from sympy->torch>=1.13->stable-baselines3==2.1.0->kaggle-environments==1.14.14) (1.3.0)\n",
      "Downloading kaggle_environments-1.14.14-py2.py3-none-any.whl (1.3 MB)\n",
      "\u001b[2K   \u001b[90m━━━━━━━━━━━━━━━━━━━━━━━━━━━━━━━━━━━━━━━━\u001b[0m \u001b[32m1.3/1.3 MB\u001b[0m \u001b[31m14.5 MB/s\u001b[0m eta \u001b[36m0:00:00\u001b[0m00:01\u001b[0m0:01\u001b[0m\n",
      "\u001b[?25hInstalling collected packages: kaggle-environments\n",
      "  Attempting uninstall: kaggle-environments\n",
      "    Found existing installation: kaggle-environments 1.14.15\n",
      "    Uninstalling kaggle-environments-1.14.15:\n",
      "      Successfully uninstalled kaggle-environments-1.14.15\n",
      "Successfully installed kaggle-environments-1.14.14\n",
      "Collecting transformers==4.31.0\n",
      "  Downloading transformers-4.31.0-py3-none-any.whl.metadata (116 kB)\n",
      "\u001b[2K     \u001b[90m━━━━━━━━━━━━━━━━━━━━━━━━━━━━━━━━━━━━━━━\u001b[0m \u001b[32m116.9/116.9 kB\u001b[0m \u001b[31m3.0 MB/s\u001b[0m eta \u001b[36m0:00:00\u001b[0ma \u001b[36m0:00:01\u001b[0m\n",
      "\u001b[?25hRequirement already satisfied: filelock in /opt/conda/lib/python3.10/site-packages (from transformers==4.31.0) (3.15.1)\n",
      "Requirement already satisfied: huggingface-hub<1.0,>=0.14.1 in /opt/conda/lib/python3.10/site-packages (from transformers==4.31.0) (0.25.1)\n",
      "Requirement already satisfied: numpy>=1.17 in /opt/conda/lib/python3.10/site-packages (from transformers==4.31.0) (1.26.4)\n",
      "Requirement already satisfied: packaging>=20.0 in /opt/conda/lib/python3.10/site-packages (from transformers==4.31.0) (21.3)\n",
      "Requirement already satisfied: pyyaml>=5.1 in /opt/conda/lib/python3.10/site-packages (from transformers==4.31.0) (6.0.2)\n",
      "Requirement already satisfied: regex!=2019.12.17 in /opt/conda/lib/python3.10/site-packages (from transformers==4.31.0) (2024.5.15)\n",
      "Requirement already satisfied: requests in /opt/conda/lib/python3.10/site-packages (from transformers==4.31.0) (2.32.3)\n",
      "Collecting tokenizers!=0.11.3,<0.14,>=0.11.1 (from transformers==4.31.0)\n",
      "  Downloading tokenizers-0.13.3-cp310-cp310-manylinux_2_17_x86_64.manylinux2014_x86_64.whl.metadata (6.7 kB)\n",
      "Requirement already satisfied: safetensors>=0.3.1 in /opt/conda/lib/python3.10/site-packages (from transformers==4.31.0) (0.4.5)\n",
      "Requirement already satisfied: tqdm>=4.27 in /opt/conda/lib/python3.10/site-packages (from transformers==4.31.0) (4.66.4)\n",
      "Requirement already satisfied: fsspec>=2023.5.0 in /opt/conda/lib/python3.10/site-packages (from huggingface-hub<1.0,>=0.14.1->transformers==4.31.0) (2024.6.1)\n",
      "Requirement already satisfied: typing-extensions>=3.7.4.3 in /opt/conda/lib/python3.10/site-packages (from huggingface-hub<1.0,>=0.14.1->transformers==4.31.0) (4.12.2)\n",
      "Requirement already satisfied: pyparsing!=3.0.5,>=2.0.2 in /opt/conda/lib/python3.10/site-packages (from packaging>=20.0->transformers==4.31.0) (3.1.2)\n",
      "Requirement already satisfied: charset-normalizer<4,>=2 in /opt/conda/lib/python3.10/site-packages (from requests->transformers==4.31.0) (3.3.2)\n",
      "Requirement already satisfied: idna<4,>=2.5 in /opt/conda/lib/python3.10/site-packages (from requests->transformers==4.31.0) (3.7)\n",
      "Requirement already satisfied: urllib3<3,>=1.21.1 in /opt/conda/lib/python3.10/site-packages (from requests->transformers==4.31.0) (1.26.18)\n",
      "Requirement already satisfied: certifi>=2017.4.17 in /opt/conda/lib/python3.10/site-packages (from requests->transformers==4.31.0) (2024.8.30)\n",
      "Downloading transformers-4.31.0-py3-none-any.whl (7.4 MB)\n",
      "\u001b[2K   \u001b[90m━━━━━━━━━━━━━━━━━━━━━━━━━━━━━━━━━━━━━━━━\u001b[0m \u001b[32m7.4/7.4 MB\u001b[0m \u001b[31m64.8 MB/s\u001b[0m eta \u001b[36m0:00:00\u001b[0m00:01\u001b[0m00:01\u001b[0m\n",
      "\u001b[?25hDownloading tokenizers-0.13.3-cp310-cp310-manylinux_2_17_x86_64.manylinux2014_x86_64.whl (7.8 MB)\n",
      "\u001b[2K   \u001b[90m━━━━━━━━━━━━━━━━━━━━━━━━━━━━━━━━━━━━━━━━\u001b[0m \u001b[32m7.8/7.8 MB\u001b[0m \u001b[31m95.5 MB/s\u001b[0m eta \u001b[36m0:00:00\u001b[0m:00:01\u001b[0m00:01\u001b[0m\n",
      "\u001b[?25hInstalling collected packages: tokenizers, transformers\n",
      "  Attempting uninstall: tokenizers\n",
      "    Found existing installation: tokenizers 0.20.0\n",
      "    Uninstalling tokenizers-0.20.0:\n",
      "      Successfully uninstalled tokenizers-0.20.0\n",
      "  Attempting uninstall: transformers\n",
      "    Found existing installation: transformers 4.45.1\n",
      "    Uninstalling transformers-4.45.1:\n",
      "      Successfully uninstalled transformers-4.45.1\n",
      "\u001b[31mERROR: pip's dependency resolver does not currently take into account all the packages that are installed. This behaviour is the source of the following dependency conflicts.\n",
      "kaggle-environments 1.14.14 requires transformers>=4.33.1, but you have transformers 4.31.0 which is incompatible.\u001b[0m\u001b[31m\n",
      "\u001b[0mSuccessfully installed tokenizers-0.13.3 transformers-4.31.0\n"
     ]
    }
   ],
   "source": [
    "!pip install evaluate\n",
    "!pip install faiss-cpu\n",
    "!pip install rouge_score\n",
    "!pip install bert-score\n",
    "!pip install python-docx\n",
    "!pip install kaggle-environments==1.14.14\n",
    "# !pip install sentence-transformers==2.2.2\n",
    "# !pip install trl==0.7.4\n",
    "!pip install transformers==4.31.0"
   ]
  },
  {
   "cell_type": "code",
   "execution_count": 2,
   "metadata": {
    "execution": {
     "iopub.execute_input": "2025-01-29T08:12:59.135517Z",
     "iopub.status.busy": "2025-01-29T08:12:59.135201Z",
     "iopub.status.idle": "2025-01-29T08:13:03.179350Z",
     "shell.execute_reply": "2025-01-29T08:13:03.178306Z",
     "shell.execute_reply.started": "2025-01-29T08:12:59.135488Z"
    },
    "scrolled": true,
    "trusted": true
   },
   "outputs": [
    {
     "name": "stderr",
     "output_type": "stream",
     "text": [
      "/opt/conda/lib/python3.10/site-packages/huggingface_hub/file_download.py:1142: FutureWarning: `resume_download` is deprecated and will be removed in version 1.0.0. Downloads always resume when possible. If you want to force a new download, use `force_download=True`.\n",
      "  warnings.warn(\n"
     ]
    },
    {
     "data": {
      "application/vnd.jupyter.widget-view+json": {
       "model_id": "b7c73657bede47a0b0ea683e9c4486e7",
       "version_major": 2,
       "version_minor": 0
      },
      "text/plain": [
       "tokenizer_config.json:   0%|          | 0.00/2.20k [00:00<?, ?B/s]"
      ]
     },
     "metadata": {},
     "output_type": "display_data"
    },
    {
     "data": {
      "application/vnd.jupyter.widget-view+json": {
       "model_id": "81733006315f429db24daceff41c7a29",
       "version_major": 2,
       "version_minor": 0
      },
      "text/plain": [
       "spiece.model:   0%|          | 0.00/820k [00:00<?, ?B/s]"
      ]
     },
     "metadata": {},
     "output_type": "display_data"
    },
    {
     "data": {
      "application/vnd.jupyter.widget-view+json": {
       "model_id": "4e8c3d33a7814bdfa08766343175320b",
       "version_major": 2,
       "version_minor": 0
      },
      "text/plain": [
       "tokenizer.json:   0%|          | 0.00/2.40M [00:00<?, ?B/s]"
      ]
     },
     "metadata": {},
     "output_type": "display_data"
    },
    {
     "data": {
      "application/vnd.jupyter.widget-view+json": {
       "model_id": "dad709ed40ea403aa5cc106435e8471c",
       "version_major": 2,
       "version_minor": 0
      },
      "text/plain": [
       "special_tokens_map.json:   0%|          | 0.00/2.12k [00:00<?, ?B/s]"
      ]
     },
     "metadata": {},
     "output_type": "display_data"
    },
    {
     "data": {
      "text/plain": [
       "T5TokenizerFast(name_or_path='VietAI/vit5-base', vocab_size=36096, model_max_length=1000000000000000019884624838656, is_fast=True, padding_side='right', truncation_side='right', special_tokens={'eos_token': '</s>', 'unk_token': '<unk>', 'pad_token': '<pad>', 'additional_special_tokens': ['<extra_id_0>', '<extra_id_1>', '<extra_id_2>', '<extra_id_3>', '<extra_id_4>', '<extra_id_5>', '<extra_id_6>', '<extra_id_7>', '<extra_id_8>', '<extra_id_9>', '<extra_id_10>', '<extra_id_11>', '<extra_id_12>', '<extra_id_13>', '<extra_id_14>', '<extra_id_15>', '<extra_id_16>', '<extra_id_17>', '<extra_id_18>', '<extra_id_19>', '<extra_id_20>', '<extra_id_21>', '<extra_id_22>', '<extra_id_23>', '<extra_id_24>', '<extra_id_25>', '<extra_id_26>', '<extra_id_27>', '<extra_id_28>', '<extra_id_29>', '<extra_id_30>', '<extra_id_31>', '<extra_id_32>', '<extra_id_33>', '<extra_id_34>', '<extra_id_35>', '<extra_id_36>', '<extra_id_37>', '<extra_id_38>', '<extra_id_39>', '<extra_id_40>', '<extra_id_41>', '<extra_id_42>', '<extra_id_43>', '<extra_id_44>', '<extra_id_45>', '<extra_id_46>', '<extra_id_47>', '<extra_id_48>', '<extra_id_49>', '<extra_id_50>', '<extra_id_51>', '<extra_id_52>', '<extra_id_53>', '<extra_id_54>', '<extra_id_55>', '<extra_id_56>', '<extra_id_57>', '<extra_id_58>', '<extra_id_59>', '<extra_id_60>', '<extra_id_61>', '<extra_id_62>', '<extra_id_63>', '<extra_id_64>', '<extra_id_65>', '<extra_id_66>', '<extra_id_67>', '<extra_id_68>', '<extra_id_69>', '<extra_id_70>', '<extra_id_71>', '<extra_id_72>', '<extra_id_73>', '<extra_id_74>', '<extra_id_75>', '<extra_id_76>', '<extra_id_77>', '<extra_id_78>', '<extra_id_79>', '<extra_id_80>', '<extra_id_81>', '<extra_id_82>', '<extra_id_83>', '<extra_id_84>', '<extra_id_85>', '<extra_id_86>', '<extra_id_87>', '<extra_id_88>', '<extra_id_89>', '<extra_id_90>', '<extra_id_91>', '<extra_id_92>', '<extra_id_93>', '<extra_id_94>', '<extra_id_95>']}, clean_up_tokenization_spaces=True)"
      ]
     },
     "execution_count": 2,
     "metadata": {},
     "output_type": "execute_result"
    }
   ],
   "source": [
    "from transformers import AutoTokenizer, AutoModelForSeq2SeqLM\n",
    "model_name = \"VietAI/vit5-base\"\n",
    "tokenizer = AutoTokenizer.from_pretrained(model_name)\n",
    "tokenizer"
   ]
  },
  {
   "cell_type": "code",
   "execution_count": null,
   "metadata": {
    "_cell_guid": "b1076dfc-b9ad-4769-8c92-a6c4dae69d19",
    "_uuid": "8f2839f25d086af736a60e9eeb907d3b93b6e0e5",
    "execution": {
     "iopub.execute_input": "2025-01-29T08:13:03.181806Z",
     "iopub.status.busy": "2025-01-29T08:13:03.180986Z",
     "iopub.status.idle": "2025-01-29T08:18:10.339753Z",
     "shell.execute_reply": "2025-01-29T08:18:10.338549Z",
     "shell.execute_reply.started": "2025-01-29T08:13:03.181760Z"
    },
    "trusted": true
   },
   "outputs": [
    {
     "name": "stdout",
     "output_type": "stream",
     "text": [
      "Processing: /kaggle/input/data-luat-qa/bo-luat-100-2015-QH13.docx\n"
     ]
    },
    {
     "name": "stderr",
     "output_type": "stream",
     "text": [
      "/opt/conda/lib/python3.10/site-packages/multiprocess/popen_fork.py:66: RuntimeWarning: os.fork() was called. os.fork() is incompatible with multithreaded code, and JAX is multithreaded, so this will likely lead to a deadlock.\n",
      "  self.pid = os.fork()\n"
     ]
    },
    {
     "data": {
      "application/vnd.jupyter.widget-view+json": {
       "model_id": "01d414de73f541c881e84c1ac3cb695c",
       "version_major": 2,
       "version_minor": 0
      },
      "text/plain": [
       "Processing paragraphs (num_proc=4):   0%|          | 0/416 [00:00<?, ? examples/s]"
      ]
     },
     "metadata": {},
     "output_type": "display_data"
    },
    {
     "name": "stdout",
     "output_type": "stream",
     "text": [
      "Dataset({\n",
      "    features: ['idx', 'title', 'input_text', 'target_text'],\n",
      "    num_rows: 416\n",
      "}) \n",
      "\n",
      "Processing: /kaggle/input/data-luat-qa/bo-luat-101-2015-QH13.docx\n"
     ]
    },
    {
     "data": {
      "application/vnd.jupyter.widget-view+json": {
       "model_id": "78368b91ba0141abaf709d1c60c48990",
       "version_major": 2,
       "version_minor": 0
      },
      "text/plain": [
       "Processing paragraphs (num_proc=4):   0%|          | 0/498 [00:00<?, ? examples/s]"
      ]
     },
     "metadata": {},
     "output_type": "display_data"
    },
    {
     "name": "stdout",
     "output_type": "stream",
     "text": [
      "Dataset({\n",
      "    features: ['idx', 'title', 'input_text', 'target_text'],\n",
      "    num_rows: 498\n",
      "}) \n",
      "\n",
      "Processing: /kaggle/input/data-luat-qa/bo-luat-45-2019-QH14.docx\n"
     ]
    },
    {
     "data": {
      "application/vnd.jupyter.widget-view+json": {
       "model_id": "028eab9538a84ae9bedb625c11cfa510",
       "version_major": 2,
       "version_minor": 0
      },
      "text/plain": [
       "Processing paragraphs (num_proc=4):   0%|          | 0/220 [00:00<?, ? examples/s]"
      ]
     },
     "metadata": {},
     "output_type": "display_data"
    },
    {
     "name": "stdout",
     "output_type": "stream",
     "text": [
      "Dataset({\n",
      "    features: ['idx', 'title', 'input_text', 'target_text'],\n",
      "    num_rows: 220\n",
      "}) \n",
      "\n",
      "Processing: /kaggle/input/data-luat-qa/bo-luat-95-2015-QH13.docx\n"
     ]
    },
    {
     "data": {
      "application/vnd.jupyter.widget-view+json": {
       "model_id": "b81b3e309438402aa709fbd0fe485cab",
       "version_major": 2,
       "version_minor": 0
      },
      "text/plain": [
       "Processing paragraphs (num_proc=4):   0%|          | 0/341 [00:00<?, ? examples/s]"
      ]
     },
     "metadata": {},
     "output_type": "display_data"
    },
    {
     "name": "stdout",
     "output_type": "stream",
     "text": [
      "Dataset({\n",
      "    features: ['idx', 'title', 'input_text', 'target_text'],\n",
      "    num_rows: 341\n",
      "}) \n",
      "\n",
      "Processing: /kaggle/input/data-luat-qa/bo-luat-dan-su-2015.docx\n"
     ]
    },
    {
     "data": {
      "application/vnd.jupyter.widget-view+json": {
       "model_id": "d85eea83c14c42e7888eccbf88bd2162",
       "version_major": 2,
       "version_minor": 0
      },
      "text/plain": [
       "Processing paragraphs (num_proc=4):   0%|          | 0/689 [00:00<?, ? examples/s]"
      ]
     },
     "metadata": {},
     "output_type": "display_data"
    },
    {
     "name": "stdout",
     "output_type": "stream",
     "text": [
      "Dataset({\n",
      "    features: ['idx', 'title', 'input_text', 'target_text'],\n",
      "    num_rows: 689\n",
      "}) \n",
      "\n",
      "Merged Dataset: Dataset({\n",
      "    features: ['idx', 'title', 'input_text', 'target_text'],\n",
      "    num_rows: 2164\n",
      "})\n"
     ]
    }
   ],
   "source": [
    "import asyncio\n",
    "from datasets import load_dataset, Dataset, concatenate_datasets\n",
    "from transformers import Seq2SeqTrainer, Seq2SeqTrainingArguments\n",
    "from transformers import AutoTokenizer, AutoModelForSeq2SeqLM\n",
    "from transformers import DataCollatorForSeq2Seq, EarlyStoppingCallback\n",
    "import torch\n",
    "import os\n",
    "import faiss\n",
    "import pandas as pd\n",
    "import evaluate\n",
    "import random\n",
    "import shutil\n",
    "from concurrent.futures import ThreadPoolExecutor\n",
    "import matplotlib.pyplot as plt\n",
    "import seaborn as sns\n",
    "import numpy as np\n",
    "from torch.amp import autocast, GradScaler\n",
    "import re\n",
    "from docx import Document\n",
    "import random\n",
    "from tqdm import tqdm\n",
    "\n",
    "\n",
    "# Cấu hình thiết bị và biến môi trường cho multi-GPU\n",
    "device = \"cuda\" if torch.cuda.is_available() else \"cpu\"\n",
    "os.environ[\"CUDA_VISIBLE_DEVICES\"] = \"0,1\"  # Sử dụng 2 GPU đầu tiên\n",
    "os.environ[\"WANDB_DISABLED\"] = \"true\"\n",
    "os.environ[\"TOKENIZERS_PARALLELISM\"] = \"false\"\n",
    "\n",
    "def remove_lines_in_chuong_muc(lines, chuong_positions, muc_positions):\n",
    "    # Tạo danh sách các nội dung trong chuong_positions và muc_positions\n",
    "    chuong_texts = [text for idx, text in chuong_positions]\n",
    "    muc_texts = [text for idx, text in muc_positions]\n",
    "    \n",
    "    # Lọc các dòng không có nội dung trùng với các chuong_texts hoặc muc_texts\n",
    "    filtered_lines = [line for line in lines if line.strip() not in chuong_texts and line.strip() not in muc_texts]\n",
    "    \n",
    "    return filtered_lines\n",
    "\n",
    "def extract_content_from_paragraphs(example, file_path, idx_list, chuong_positions, muc_positions):\n",
    "    # Đọc tài liệu .docx trong mỗi tiến trình\n",
    "    doc = Document(file_path)\n",
    "    \n",
    "    # Tính toán vị trí bắt đầu và kết thúc\n",
    "    start_idx = example[\"idx\"]\n",
    "    end_idx = idx_list[idx_list.index(start_idx) + 1] if start_idx < idx_list[-1] else len(doc.paragraphs)\n",
    "\n",
    "    # Ghép nội dung các đoạn văn\n",
    "    content = \" \\n \".join([doc.paragraphs[j].text for j in range(start_idx, end_idx) if doc.paragraphs[j].text.strip()])\n",
    "    lines = content.split('\\n')\n",
    "    lines = remove_lines_in_chuong_muc(lines, chuong_positions, muc_positions)\n",
    "    # Khởi tạo các biến kết quả\n",
    "    input_lines = []\n",
    "    target_spans = []\n",
    "    current_extra_id = 0\n",
    "    # Tạo mask nội dung\n",
    "    for line in lines:\n",
    "        words = line.strip().split()\n",
    "        if not words:  # Kiểm tra dòng trống\n",
    "            continue\n",
    "            \n",
    "        num_words_to_mask = max(1, int(len(words) * 0.25))\n",
    "        words_to_mask = random.sample(range(len(words)), num_words_to_mask)\n",
    "        words_to_mask = sorted(words_to_mask)\n",
    "        \n",
    "        masked_words = words.copy()\n",
    "        for idx in words_to_mask:\n",
    "            original_word = masked_words[idx]\n",
    "            masked_words[idx] = f\"<extra_id_{current_extra_id}>\"\n",
    "            target_spans.append(f\"<extra_id_{current_extra_id}> {original_word}\")\n",
    "            current_extra_id += 1\n",
    "        \n",
    "        input_lines.append(' '.join(masked_words))\n",
    "    \n",
    "    return {\n",
    "        \"input_text\": ' \\n '.join(input_lines),\n",
    "        \"target_text\": ' '.join(target_spans)\n",
    "    }\n",
    "    \n",
    "\n",
    "def process_docx_from_local_path(file_path):\n",
    "    # Đọc tài liệu .docx\n",
    "    doc = Document(file_path)\n",
    "    \n",
    "    # Lưu các điều và vị trí\n",
    "    dieu_positions = []\n",
    "    chuong_positions = []\n",
    "    muc_positions = []\n",
    "    is_chuong = False\n",
    "    for idx, paragraph in enumerate(doc.paragraphs):\n",
    "        if is_chuong:\n",
    "            chuong_positions.append((idx, paragraph.text))\n",
    "            is_chuong = False\n",
    "        if paragraph.text.startswith(\"Chương\"):\n",
    "            chuong_positions.append((idx, paragraph.text))\n",
    "            is_chuong = True\n",
    "        if paragraph.text.startswith(\"Mục\"):\n",
    "            muc_positions.append((idx, paragraph.text))\n",
    "        if paragraph.text.startswith(\"Điều\") and len(paragraph.text.split('.')[0]) < 10:\n",
    "            dieu_positions.append((idx, paragraph.text))\n",
    "    # print(chuong_positions)\n",
    "    # print(muc_positions)\n",
    "    # Tạo Dataset với các vị trí của điều\n",
    "    dataset = Dataset.from_dict({\n",
    "        \"idx\": [dieu[0] for dieu in dieu_positions],\n",
    "        \"title\": [dieu[1] for dieu in dieu_positions],\n",
    "    })\n",
    "    \n",
    "    # Lấy danh sách các chỉ số idx\n",
    "    idx_list = dataset[\"idx\"]\n",
    "\n",
    "    # Áp dụng xử lý song song với thanh tiến trình\n",
    "    dataset = dataset.map(\n",
    "        lambda example: extract_content_from_paragraphs(example, file_path, idx_list, chuong_positions, muc_positions),\n",
    "        num_proc=4,\n",
    "        desc=\"Processing paragraphs\"  # Thêm mô tả cho thanh tiến trình\n",
    "    )\n",
    "    return dataset\n",
    "\n",
    "# dataset = process_docx_from_local_path(\"/kaggle/input/data-luat-qa/bo-luat-dan-su-2015.docx\")\n",
    "# print(dataset)\n",
    "\n",
    "local_paths = [\n",
    "                \"/kaggle/input/data-luat-qa/bo-luat-100-2015-QH13.docx\",\n",
    "                \"/kaggle/input/data-luat-qa/bo-luat-101-2015-QH13.docx\",\n",
    "                \"/kaggle/input/data-luat-qa/bo-luat-45-2019-QH14.docx\",\n",
    "                \"/kaggle/input/data-luat-qa/bo-luat-95-2015-QH13.docx\",\n",
    "                \"/kaggle/input/data-luat-qa/bo-luat-dan-su-2015.docx\",\n",
    "                ]\n",
    "\n",
    "# Khởi tạo một dataset rỗng\n",
    "merged_dataset = None\n",
    "\n",
    "# Duyệt qua tất cả các tệp trong local_paths\n",
    "for local_path in local_paths:\n",
    "    print(f\"Processing: {local_path}\")\n",
    "    dataset = process_docx_from_local_path(local_path)\n",
    "    \n",
    "    # In dataset để kiểm tra\n",
    "    print(dataset, '\\n')\n",
    "\n",
    "    # Gộp dataset vào dataset chung\n",
    "    if merged_dataset is None:\n",
    "        merged_dataset = dataset\n",
    "    else:\n",
    "        merged_dataset = concatenate_datasets([merged_dataset, dataset])\n",
    "\n",
    "# In kết quả\n",
    "print(\"Merged Dataset:\", merged_dataset)"
   ]
  },
  {
   "cell_type": "code",
   "execution_count": 4,
   "metadata": {
    "execution": {
     "iopub.execute_input": "2025-01-29T08:18:10.342434Z",
     "iopub.status.busy": "2025-01-29T08:18:10.342129Z",
     "iopub.status.idle": "2025-01-29T08:18:10.444695Z",
     "shell.execute_reply": "2025-01-29T08:18:10.443542Z",
     "shell.execute_reply.started": "2025-01-29T08:18:10.342404Z"
    },
    "trusted": true
   },
   "outputs": [
    {
     "name": "stdout",
     "output_type": "stream",
     "text": [
      "Số lượng giá trị trống trong tập huấn luyện:\n",
      " idx            0\n",
      "title          0\n",
      "input_text     0\n",
      "target_text    0\n",
      "dtype: int64\n",
      "Số lượng giá trị trống trong tập kiểm thử:\n",
      " idx            0\n",
      "title          0\n",
      "input_text     0\n",
      "target_text    0\n",
      "dtype: int64\n"
     ]
    }
   ],
   "source": [
    "# Tách tập train/test\n",
    "split_dataset = merged_dataset.train_test_split(test_size=0.2, seed=42)\n",
    "\n",
    "# Chọn một lượng mẫu cụ thể cho train và eval dataset\n",
    "train_dataset = split_dataset[\"train\"]\n",
    "eval_dataset = split_dataset[\"test\"]\n",
    "\n",
    "# Chuyển đổi dữ liệu thành DataFrame để dễ xử lý\n",
    "train_df = pd.DataFrame(dataset)\n",
    "eval_df = pd.DataFrame(eval_dataset)\n",
    "\n",
    "# Kiểm tra lại số lượng giá trị trống trước khi xử lý\n",
    "print(\"Số lượng giá trị trống trong tập huấn luyện:\\n\", train_df.isnull().sum())\n",
    "print(\"Số lượng giá trị trống trong tập kiểm thử:\\n\", eval_df.isnull().sum())"
   ]
  },
  {
   "cell_type": "code",
   "execution_count": 5,
   "metadata": {
    "execution": {
     "iopub.execute_input": "2025-01-29T08:18:10.447327Z",
     "iopub.status.busy": "2025-01-29T08:18:10.446863Z",
     "iopub.status.idle": "2025-01-29T08:18:10.454339Z",
     "shell.execute_reply": "2025-01-29T08:18:10.453264Z",
     "shell.execute_reply.started": "2025-01-29T08:18:10.447279Z"
    },
    "trusted": true
   },
   "outputs": [
    {
     "data": {
      "text/plain": [
       "Dataset({\n",
       "    features: ['idx', 'title', 'input_text', 'target_text'],\n",
       "    num_rows: 1731\n",
       "})"
      ]
     },
     "execution_count": 5,
     "metadata": {},
     "output_type": "execute_result"
    }
   ],
   "source": [
    "train_dataset"
   ]
  },
  {
   "cell_type": "code",
   "execution_count": 6,
   "metadata": {
    "execution": {
     "iopub.execute_input": "2025-01-29T08:18:10.455856Z",
     "iopub.status.busy": "2025-01-29T08:18:10.455580Z",
     "iopub.status.idle": "2025-01-29T08:18:11.300240Z",
     "shell.execute_reply": "2025-01-29T08:18:11.299120Z",
     "shell.execute_reply.started": "2025-01-29T08:18:10.455830Z"
    },
    "trusted": true
   },
   "outputs": [
    {
     "name": "stderr",
     "output_type": "stream",
     "text": [
      "/opt/conda/lib/python3.10/site-packages/seaborn/_oldcore.py:1119: FutureWarning: use_inf_as_na option is deprecated and will be removed in a future version. Convert inf values to NaN before operating instead.\n",
      "  with pd.option_context('mode.use_inf_as_na', True):\n",
      "/opt/conda/lib/python3.10/site-packages/seaborn/_oldcore.py:1119: FutureWarning: use_inf_as_na option is deprecated and will be removed in a future version. Convert inf values to NaN before operating instead.\n",
      "  with pd.option_context('mode.use_inf_as_na', True):\n"
     ]
    },
    {
     "data": {
      "image/png": "[encoded data removed]",
      "text/plain": [
       "<Figure size 1400x400 with 2 Axes>"
      ]
     },
     "metadata": {},
     "output_type": "display_data"
    }
   ],
   "source": [
    "# Tính độ dài của câu hỏi và câu trả lời\n",
    "train_df['question_length'] = train_df['input_text'].apply(lambda x: len(x.split()) if x is not None else 0)\n",
    "train_df['answer_length'] = train_df['target_text'].apply(lambda x: len(x.split()) if x is not None else 0)\n",
    "\n",
    "# Tính giá trị mode (giá trị có tần suất cao nhất)\n",
    "question_mode = train_df['question_length'].mode()[0]\n",
    "answer_mode = train_df['answer_length'].mode()[0]\n",
    "\n",
    "# Vẽ biểu đồ\n",
    "plt.figure(figsize=(14, 4))\n",
    "\n",
    "# Biểu đồ phân phối độ dài câu hỏi\n",
    "plt.subplot(1, 2, 1)\n",
    "sns.histplot(train_df['question_length'], kde=True, color=\"blue\", bins=30)\n",
    "plt.title(\"Phân phối độ dài 'input_text' trong tập huấn luyện\")\n",
    "plt.xlabel(\"Số từ\")\n",
    "plt.axvline(question_mode, color='red', linestyle='--', label=f'Mode: {question_mode}')\n",
    "plt.legend()\n",
    "\n",
    "# Biểu đồ phân phối độ dài câu trả lời\n",
    "plt.subplot(1, 2, 2)\n",
    "sns.histplot(train_df['answer_length'], kde=True, color=\"green\", bins=30)\n",
    "plt.title(\"Phân phối độ dài 'target_text' trong tập huấn luyện\")\n",
    "plt.xlabel(\"Số từ\")\n",
    "plt.axvline(answer_mode, color='red', linestyle='--', label=f'Mode: {answer_mode}')\n",
    "plt.legend()\n",
    "\n",
    "# Hiển thị các biểu đồ\n",
    "plt.tight_layout()\n",
    "plt.show()"
   ]
  },
  {
   "cell_type": "code",
   "execution_count": 7,
   "metadata": {
    "execution": {
     "iopub.execute_input": "2025-01-29T08:18:11.302427Z",
     "iopub.status.busy": "2025-01-29T08:18:11.301722Z",
     "iopub.status.idle": "2025-01-29T08:18:11.725686Z",
     "shell.execute_reply": "2025-01-29T08:18:11.724721Z",
     "shell.execute_reply.started": "2025-01-29T08:18:11.302384Z"
    },
    "trusted": true
   },
   "outputs": [
    {
     "data": {
      "image/png": "[encoded data removed]",
      "text/plain": [
       "<Figure size 1200x600 with 2 Axes>"
      ]
     },
     "metadata": {},
     "output_type": "display_data"
    }
   ],
   "source": [
    "# Thay đổi ngưỡng nếu cần\n",
    "threshold = 256\n",
    "\n",
    "# # Tính tổng độ dài của question_length và querie_length\n",
    "# train_df['combined_question_length'] = train_df['question_length']\n",
    "\n",
    "# Đếm số lượng câu hỏi có độ dài lớn hơn ngưỡng\n",
    "num_questions_over_threshold = train_df['question_length'].gt(threshold).sum()\n",
    "\n",
    "# Đếm số lượng câu trả lời có độ dài lớn hơn ngưỡng\n",
    "num_answers_over_threshold = train_df['answer_length'].gt(threshold).sum()\n",
    "\n",
    "# Đếm tổng số câu hỏi và câu trả lời\n",
    "total_questions = len(train_df)\n",
    "total_answers = len(train_df['target_text'])\n",
    "\n",
    "# Tính tỷ lệ phần trăm câu hỏi và câu trả lời có độ dài lớn hơn ngưỡng\n",
    "percentage_questions_over_threshold = (num_questions_over_threshold / total_questions) * 100\n",
    "percentage_answers_over_threshold = (num_answers_over_threshold / total_answers) * 100\n",
    "\n",
    "# Tính tỷ lệ phần trăm câu hỏi và câu trả lời có độ dài nhỏ hơn hoặc bằng ngưỡng\n",
    "percentage_questions_under_threshold = 100 - percentage_questions_over_threshold\n",
    "percentage_answers_under_threshold = 100 - percentage_answers_over_threshold\n",
    "\n",
    "# Dữ liệu cho biểu đồ hình tròn\n",
    "question_data = [percentage_questions_over_threshold, percentage_questions_under_threshold]\n",
    "answer_data = [percentage_answers_over_threshold, percentage_answers_under_threshold]\n",
    "\n",
    "# Tạo biểu đồ hình tròn cho câu hỏi\n",
    "plt.figure(figsize=(12, 6))\n",
    "\n",
    "plt.subplot(1, 2, 1)\n",
    "plt.pie(question_data, labels=[f'> {threshold} words', f'<= {threshold} words'], autopct='%1.1f%%', startangle=90, colors=['#ff9999', '#66b3ff'])\n",
    "plt.title(f'Percentage of Questions with Length > {threshold} and <= {threshold} Words')\n",
    "\n",
    "# Tạo biểu đồ hình tròn cho câu trả lời\n",
    "plt.subplot(1, 2, 2)\n",
    "plt.pie(answer_data, labels=[f'> {threshold} words', f'<= {threshold} words'], autopct='%1.1f%%', startangle=90, colors=['#ff9999', '#66b3ff'])\n",
    "plt.title(f'Percentage of Answers with Length > {threshold} and <= {threshold} Words')\n",
    "\n",
    "# Hiển thị biểu đồ\n",
    "plt.tight_layout()\n",
    "plt.show()"
   ]
  },
  {
   "cell_type": "code",
   "execution_count": 8,
   "metadata": {
    "execution": {
     "iopub.execute_input": "2025-01-29T08:18:11.727384Z",
     "iopub.status.busy": "2025-01-29T08:18:11.727013Z",
     "iopub.status.idle": "2025-01-29T08:18:12.024232Z",
     "shell.execute_reply": "2025-01-29T08:18:12.023099Z",
     "shell.execute_reply.started": "2025-01-29T08:18:11.727354Z"
    },
    "trusted": true
   },
   "outputs": [
    {
     "name": "stderr",
     "output_type": "stream",
     "text": [
      "/opt/conda/lib/python3.10/site-packages/huggingface_hub/file_download.py:1142: FutureWarning: `resume_download` is deprecated and will be removed in version 1.0.0. Downloads always resume when possible. If you want to force a new download, use `force_download=True`.\n",
      "  warnings.warn(\n"
     ]
    },
    {
     "name": "stdout",
     "output_type": "stream",
     "text": [
      "{'input_ids': [252, 134, 35792, 1238, 419, 35783, 36095, 1278, 40, 35792, 35783, 36094, 1278, 49, 212, 1971, 35783, 36093, 221, 71, 35783, 36092, 1443, 836, 2118, 35783, 36091, 35783, 36090, 238, 35783, 36089, 1145, 222, 54, 910, 234, 35790, 35783, 36088, 234, 80, 206, 700, 257, 221, 1352, 243, 35790, 74, 401, 240, 35783, 36087, 35783, 36086, 352, 4425, 265, 286, 733, 80, 68, 332, 781, 1018, 35790, 74, 1615, 329, 39, 1270, 419, 1226, 3385, 80, 35783, 36085, 800, 35790, 35783, 36084, 257, 35783, 36083, 1261, 35783, 36082, 257, 1000, 35783, 36081, 35783, 36080, 35783, 36079, 35783, 36078, 508, 257, 221, 35792, 60, 35792, 1401, 373, 72, 790, 129, 71, 13520, 1276, 35783, 36077, 463, 710, 35783, 36076, 212, 35783, 36075, 416, 71, 35783, 36074, 1270, 419, 35783, 36073, 1278, 400, 778, 1278, 1270, 35783, 36072, 129, 74, 35783, 36071, 123, 35783, 36070, 840, 1971, 316, 657, 35783, 36069, 463, 710, 35783, 36068, 221, 35783, 36067, 238, 152, 35783, 36066, 122, 54, 656, 710, 118, 35792, 1, 0, 0, 0, 0, 0, 0, 0, 0, 0, 0, 0, 0, 0, 0, 0, 0, 0, 0, 0, 0, 0, 0, 0, 0, 0, 0, 0, 0, 0, 0, 0, 0, 0, 0, 0, 0, 0, 0, 0, 0, 0, 0, 0, 0, 0, 0, 0, 0, 0, 0, 0, 0, 0, 0, 0, 0, 0, 0, 0, 0, 0, 0, 0, 0, 0, 0, 0, 0, 0, 0, 0, 0, 0, 0, 0, 0, 0, 0, 0, 0, 0, 0, 0, 0, 0, 0, 0, 0, 0], 'attention_mask': [1, 1, 1, 1, 1, 1, 1, 1, 1, 1, 1, 1, 1, 1, 1, 1, 1, 1, 1, 1, 1, 1, 1, 1, 1, 1, 1, 1, 1, 1, 1, 1, 1, 1, 1, 1, 1, 1, 1, 1, 1, 1, 1, 1, 1, 1, 1, 1, 1, 1, 1, 1, 1, 1, 1, 1, 1, 1, 1, 1, 1, 1, 1, 1, 1, 1, 1, 1, 1, 1, 1, 1, 1, 1, 1, 1, 1, 1, 1, 1, 1, 1, 1, 1, 1, 1, 1, 1, 1, 1, 1, 1, 1, 1, 1, 1, 1, 1, 1, 1, 1, 1, 1, 1, 1, 1, 1, 1, 1, 1, 1, 1, 1, 1, 1, 1, 1, 1, 1, 1, 1, 1, 1, 1, 1, 1, 1, 1, 1, 1, 1, 1, 1, 1, 1, 1, 1, 1, 1, 1, 1, 1, 1, 1, 1, 1, 1, 1, 1, 1, 1, 1, 1, 1, 1, 1, 1, 1, 1, 1, 1, 1, 1, 1, 1, 1, 1, 0, 0, 0, 0, 0, 0, 0, 0, 0, 0, 0, 0, 0, 0, 0, 0, 0, 0, 0, 0, 0, 0, 0, 0, 0, 0, 0, 0, 0, 0, 0, 0, 0, 0, 0, 0, 0, 0, 0, 0, 0, 0, 0, 0, 0, 0, 0, 0, 0, 0, 0, 0, 0, 0, 0, 0, 0, 0, 0, 0, 0, 0, 0, 0, 0, 0, 0, 0, 0, 0, 0, 0, 0, 0, 0, 0, 0, 0, 0, 0, 0, 0, 0, 0, 0, 0, 0, 0, 0]} \n",
      " {'input_ids': [36095, 778, 35783, 36094, 1931, 35783, 36093, 678, 35783, 36092, 1099, 35783, 36091, 180, 35783, 36090, 731, 35783, 36089, 451, 35790, 35783, 36088, 463, 35783, 36087, 39, 35783, 36086, 4425, 35783, 36085, 68, 35783, 36084, 1144, 35790, 35783, 36083, 1602, 35790, 35783, 36082, 247, 35783, 36081, 799, 35783, 36080, 80, 35783, 36079, 68, 35783, 36078, 1526, 35783, 36077, 39, 35783, 36076, 129, 35783, 36075, 238, 35783, 36074, 243, 35783, 36073, 778, 35783, 36072, 419, 35783, 36071, 1061, 35783, 36070, 72, 35783, 36069, 54, 35783, 36068, 257, 35783, 36067, 212, 35783, 36066, 252, 1, 0, 0, 0, 0, 0, 0, 0, 0, 0, 0, 0, 0, 0, 0, 0, 0, 0, 0, 0, 0, 0, 0, 0, 0, 0, 0, 0, 0, 0, 0, 0, 0, 0, 0, 0, 0, 0, 0, 0, 0, 0, 0, 0, 0, 0, 0, 0, 0, 0, 0, 0, 0, 0, 0, 0, 0, 0, 0, 0, 0, 0, 0, 0, 0, 0, 0, 0, 0, 0, 0, 0, 0, 0, 0, 0, 0, 0, 0, 0, 0, 0, 0, 0, 0, 0, 0, 0, 0, 0, 0, 0, 0, 0, 0, 0, 0, 0, 0, 0, 0, 0, 0, 0, 0, 0, 0, 0, 0, 0, 0, 0, 0, 0, 0, 0, 0, 0, 0, 0, 0, 0, 0, 0, 0, 0, 0, 0, 0, 0, 0, 0, 0, 0, 0, 0, 0, 0, 0, 0, 0, 0, 0, 0, 0, 0, 0, 0, 0, 0, 0, 0, 0, 0, 0, 0, 0, 0, 0, 0, 0, 0, 0, 0], 'attention_mask': [1, 1, 1, 1, 1, 1, 1, 1, 1, 1, 1, 1, 1, 1, 1, 1, 1, 1, 1, 1, 1, 1, 1, 1, 1, 1, 1, 1, 1, 1, 1, 1, 1, 1, 1, 1, 1, 1, 1, 1, 1, 1, 1, 1, 1, 1, 1, 1, 1, 1, 1, 1, 1, 1, 1, 1, 1, 1, 1, 1, 1, 1, 1, 1, 1, 1, 1, 1, 1, 1, 1, 1, 1, 1, 1, 1, 1, 1, 1, 1, 1, 1, 1, 1, 1, 1, 1, 1, 1, 1, 1, 1, 1, 0, 0, 0, 0, 0, 0, 0, 0, 0, 0, 0, 0, 0, 0, 0, 0, 0, 0, 0, 0, 0, 0, 0, 0, 0, 0, 0, 0, 0, 0, 0, 0, 0, 0, 0, 0, 0, 0, 0, 0, 0, 0, 0, 0, 0, 0, 0, 0, 0, 0, 0, 0, 0, 0, 0, 0, 0, 0, 0, 0, 0, 0, 0, 0, 0, 0, 0, 0, 0, 0, 0, 0, 0, 0, 0, 0, 0, 0, 0, 0, 0, 0, 0, 0, 0, 0, 0, 0, 0, 0, 0, 0, 0, 0, 0, 0, 0, 0, 0, 0, 0, 0, 0, 0, 0, 0, 0, 0, 0, 0, 0, 0, 0, 0, 0, 0, 0, 0, 0, 0, 0, 0, 0, 0, 0, 0, 0, 0, 0, 0, 0, 0, 0, 0, 0, 0, 0, 0, 0, 0, 0, 0, 0, 0, 0, 0, 0, 0, 0, 0, 0, 0, 0, 0, 0, 0, 0, 0, 0, 0, 0, 0, 0]}\n"
     ]
    }
   ],
   "source": [
    "# Khởi tạo model và tokenizer với 'mt5-base'\n",
    "model_name = \"VietAI/vit5-base\"\n",
    "tokenizer = AutoTokenizer.from_pretrained(model_name)\n",
    "\n",
    "# Chuyển DataFrame thành dataset của Hugging Face\n",
    "train_dataset = Dataset.from_pandas(train_df)\n",
    "eval_dataset = Dataset.from_pandas(eval_df)\n",
    "\n",
    "input_encodings = tokenizer(train_dataset[4]['input_text'],\n",
    "                             truncation=True,\n",
    "                             padding=\"max_length\",\n",
    "                             max_length=256)\n",
    "target_encodings = tokenizer(train_dataset[4]['target_text'], \n",
    "                            truncation=True,\n",
    "                            return_attention_mask=True, \n",
    "                            add_special_tokens=True, \n",
    "                            padding=\"max_length\", \n",
    "                            max_length=256)\n",
    "print(input_encodings, '\\n',target_encodings)"
   ]
  },
  {
   "cell_type": "code",
   "execution_count": 9,
   "metadata": {
    "execution": {
     "iopub.execute_input": "2025-01-29T08:18:12.026039Z",
     "iopub.status.busy": "2025-01-29T08:18:12.025638Z",
     "iopub.status.idle": "2025-01-29T08:18:14.060794Z",
     "shell.execute_reply": "2025-01-29T08:18:14.059808Z",
     "shell.execute_reply.started": "2025-01-29T08:18:12.026006Z"
    },
    "trusted": true
   },
   "outputs": [
    {
     "data": {
      "application/vnd.jupyter.widget-view+json": {
       "model_id": "e2bd0f80e9ba4386be4c021c99507bad",
       "version_major": 2,
       "version_minor": 0
      },
      "text/plain": [
       "Map:   0%|          | 0/689 [00:00<?, ? examples/s]"
      ]
     },
     "metadata": {},
     "output_type": "display_data"
    },
    {
     "data": {
      "application/vnd.jupyter.widget-view+json": {
       "model_id": "357884046e4d43d6a2b41b8e1164bc1e",
       "version_major": 2,
       "version_minor": 0
      },
      "text/plain": [
       "Map:   0%|          | 0/433 [00:00<?, ? examples/s]"
      ]
     },
     "metadata": {},
     "output_type": "display_data"
    }
   ],
   "source": [
    "# Tiền xử lý dữ liệu\n",
    "def preprocess_data(example):\n",
    "    input_text = example[\"input_text\"]\n",
    "    target_text = example[\"target_text\"]\n",
    "    \n",
    "    # Áp dụng padding và truncation với max_length thích hợp\n",
    "    input_encodings = tokenizer(input_text, \n",
    "                                truncation=True,\n",
    "                                return_attention_mask=True, \n",
    "                                add_special_tokens=True, \n",
    "                                padding=\"max_length\", \n",
    "                                max_length=256)\n",
    "    target_encodings = tokenizer(target_text,\n",
    "                                 truncation=True,\n",
    "                                 padding=\"max_length\",\n",
    "                                 max_length=256)  # Giữ max_length cho target\n",
    "    \n",
    "    # Labels: thay thế pad token bằng -100 (tương thích với mô hình T5)\n",
    "    labels = target_encodings[\"input_ids\"]\n",
    "    labels = [-100 if label == tokenizer.pad_token_id else label for label in labels]  # Thay thế pad token bằng -100\n",
    "\n",
    "    return {\n",
    "        \"input_ids\": torch.tensor(input_encodings[\"input_ids\"]),\n",
    "        \"attention_mask\": torch.tensor(input_encodings[\"attention_mask\"]),\n",
    "        \"labels\": torch.tensor(labels)\n",
    "    }\n",
    "\n",
    "# Áp dụng tiền xử lý và xóa các cột cũ\n",
    "train_dataset = train_dataset.map(preprocess_data, remove_columns=train_dataset.column_names)\n",
    "eval_dataset = eval_dataset.map(preprocess_data, remove_columns=eval_dataset.column_names)"
   ]
  },
  {
   "cell_type": "code",
   "execution_count": 10,
   "metadata": {
    "execution": {
     "iopub.execute_input": "2025-01-29T08:18:14.064276Z",
     "iopub.status.busy": "2025-01-29T08:18:14.063961Z",
     "iopub.status.idle": "2025-01-29T08:18:14.070107Z",
     "shell.execute_reply": "2025-01-29T08:18:14.069164Z",
     "shell.execute_reply.started": "2025-01-29T08:18:14.064245Z"
    },
    "trusted": true
   },
   "outputs": [
    {
     "data": {
      "text/plain": [
       "Dataset({\n",
       "    features: ['input_ids', 'attention_mask', 'labels'],\n",
       "    num_rows: 689\n",
       "})"
      ]
     },
     "execution_count": 10,
     "metadata": {},
     "output_type": "execute_result"
    }
   ],
   "source": [
    "train_dataset"
   ]
  },
  {
   "cell_type": "markdown",
   "metadata": {},
   "source": [
    "# Preprocess Data"
   ]
  },
  {
   "cell_type": "code",
   "execution_count": 11,
   "metadata": {
    "execution": {
     "iopub.execute_input": "2025-01-29T08:18:14.071409Z",
     "iopub.status.busy": "2025-01-29T08:18:14.071154Z",
     "iopub.status.idle": "2025-01-29T08:18:14.124690Z",
     "shell.execute_reply": "2025-01-29T08:18:14.123704Z",
     "shell.execute_reply.started": "2025-01-29T08:18:14.071374Z"
    },
    "trusted": true
   },
   "outputs": [
    {
     "name": "stdout",
     "output_type": "stream",
     "text": [
      "Ori data:\n",
      "idx                                                                4\n",
      "title                                     Điều 1. Phạm vi điều chỉnh\n",
      "input_text         Điều 1. Phạm vi điều <extra_id_0> \\n <extra_id...\n",
      "target_text        <extra_id_0> chỉnh <extra_id_1> Bộ <extra_id_2...\n",
      "question_length                                                   77\n",
      "answer_length                                                     36\n",
      "Name: 0, dtype: object\n",
      "Preprocessed Data:\n",
      "{'input_ids': tensor([  252,    40, 35792,  1405,   448,   290, 35783, 36095, 35783, 36094,\n",
      "          710,   118,   212,   238,   505,   667,   463,   381, 35790, 35783,\n",
      "        36093, 35783, 36092,   463,   381,   183,   631,  1059,   678,    54,\n",
      "          910, 35783, 36091,   463, 35783, 36090, 35783, 36089, 35783, 36088,\n",
      "          222, 35783, 36087,   234,   907,    39,   496,   435,    54, 35783,\n",
      "        36086, 35783, 36085,   463,   234,    80,    72,   206,   700,    74,\n",
      "          401,   240, 35783, 36084, 35783, 36083,   796,   879, 35783, 36082,\n",
      "          487,   284,   322, 35783, 36081,  1346,   650,   183,   496,   435,\n",
      "           39,   487, 35783, 36080,  1046,   735,    33, 35807,   142,   642,\n",
      "        35783, 36079,  1071, 35783, 36078,   206,   700,   257,   221, 35831,\n",
      "        35792,     1,     0,     0,     0,     0,     0,     0,     0,     0,\n",
      "            0,     0,     0,     0,     0,     0,     0,     0,     0,     0,\n",
      "            0,     0,     0,     0,     0,     0,     0,     0,     0,     0,\n",
      "            0,     0,     0,     0,     0,     0,     0,     0,     0,     0,\n",
      "            0,     0,     0,     0,     0,     0,     0,     0,     0,     0,\n",
      "            0,     0,     0,     0,     0,     0,     0,     0,     0,     0,\n",
      "            0,     0,     0,     0,     0,     0,     0,     0,     0,     0,\n",
      "            0,     0,     0,     0,     0,     0,     0,     0,     0,     0,\n",
      "            0,     0,     0,     0,     0,     0,     0,     0,     0,     0,\n",
      "            0,     0,     0,     0,     0,     0,     0,     0,     0,     0,\n",
      "            0,     0,     0,     0,     0,     0,     0,     0,     0,     0,\n",
      "            0,     0,     0,     0,     0,     0,     0,     0,     0,     0,\n",
      "            0,     0,     0,     0,     0,     0,     0,     0,     0,     0,\n",
      "            0,     0,     0,     0,     0,     0,     0,     0,     0,     0,\n",
      "            0,     0,     0,     0,     0,     0,     0,     0,     0,     0,\n",
      "            0,     0,     0,     0,     0,     0]), 'attention_mask': tensor([1, 1, 1, 1, 1, 1, 1, 1, 1, 1, 1, 1, 1, 1, 1, 1, 1, 1, 1, 1, 1, 1, 1, 1,\n",
      "        1, 1, 1, 1, 1, 1, 1, 1, 1, 1, 1, 1, 1, 1, 1, 1, 1, 1, 1, 1, 1, 1, 1, 1,\n",
      "        1, 1, 1, 1, 1, 1, 1, 1, 1, 1, 1, 1, 1, 1, 1, 1, 1, 1, 1, 1, 1, 1, 1, 1,\n",
      "        1, 1, 1, 1, 1, 1, 1, 1, 1, 1, 1, 1, 1, 1, 1, 1, 1, 1, 1, 1, 1, 1, 1, 1,\n",
      "        1, 1, 1, 1, 1, 1, 0, 0, 0, 0, 0, 0, 0, 0, 0, 0, 0, 0, 0, 0, 0, 0, 0, 0,\n",
      "        0, 0, 0, 0, 0, 0, 0, 0, 0, 0, 0, 0, 0, 0, 0, 0, 0, 0, 0, 0, 0, 0, 0, 0,\n",
      "        0, 0, 0, 0, 0, 0, 0, 0, 0, 0, 0, 0, 0, 0, 0, 0, 0, 0, 0, 0, 0, 0, 0, 0,\n",
      "        0, 0, 0, 0, 0, 0, 0, 0, 0, 0, 0, 0, 0, 0, 0, 0, 0, 0, 0, 0, 0, 0, 0, 0,\n",
      "        0, 0, 0, 0, 0, 0, 0, 0, 0, 0, 0, 0, 0, 0, 0, 0, 0, 0, 0, 0, 0, 0, 0, 0,\n",
      "        0, 0, 0, 0, 0, 0, 0, 0, 0, 0, 0, 0, 0, 0, 0, 0, 0, 0, 0, 0, 0, 0, 0, 0,\n",
      "        0, 0, 0, 0, 0, 0, 0, 0, 0, 0, 0, 0, 0, 0, 0, 0]), 'labels': tensor([36095,  2345, 35783, 36094,   656, 35783, 36093,  1334, 35783, 36092,\n",
      "         2602, 35783, 36091,   234, 35790, 35783, 36090,   234, 35899, 35783,\n",
      "        36089,   451, 35790, 35783, 36088,  1145, 35783, 36087,   183, 35783,\n",
      "        36086,   910, 35783, 36085,   234, 35790, 35783, 36084,   195, 35783,\n",
      "        36083,   316, 35783, 36082,  3141, 35790, 35783, 36081,   989, 35790,\n",
      "        35783, 36080,  1404, 35783, 36079,   789, 35783, 36078,    49,     1,\n",
      "         -100,  -100,  -100,  -100,  -100,  -100,  -100,  -100,  -100,  -100,\n",
      "         -100,  -100,  -100,  -100,  -100,  -100,  -100,  -100,  -100,  -100,\n",
      "         -100,  -100,  -100,  -100,  -100,  -100,  -100,  -100,  -100,  -100,\n",
      "         -100,  -100,  -100,  -100,  -100,  -100,  -100,  -100,  -100,  -100,\n",
      "         -100,  -100,  -100,  -100,  -100,  -100,  -100,  -100,  -100,  -100,\n",
      "         -100,  -100,  -100,  -100,  -100,  -100,  -100,  -100,  -100,  -100,\n",
      "         -100,  -100,  -100,  -100,  -100,  -100,  -100,  -100,  -100,  -100,\n",
      "         -100,  -100,  -100,  -100,  -100,  -100,  -100,  -100,  -100,  -100,\n",
      "         -100,  -100,  -100,  -100,  -100,  -100,  -100,  -100,  -100,  -100,\n",
      "         -100,  -100,  -100,  -100,  -100,  -100,  -100,  -100,  -100,  -100,\n",
      "         -100,  -100,  -100,  -100,  -100,  -100,  -100,  -100,  -100,  -100,\n",
      "         -100,  -100,  -100,  -100,  -100,  -100,  -100,  -100,  -100,  -100,\n",
      "         -100,  -100,  -100,  -100,  -100,  -100,  -100,  -100,  -100,  -100,\n",
      "         -100,  -100,  -100,  -100,  -100,  -100,  -100,  -100,  -100,  -100,\n",
      "         -100,  -100,  -100,  -100,  -100,  -100,  -100,  -100,  -100,  -100,\n",
      "         -100,  -100,  -100,  -100,  -100,  -100,  -100,  -100,  -100,  -100,\n",
      "         -100,  -100,  -100,  -100,  -100,  -100,  -100,  -100,  -100,  -100,\n",
      "         -100,  -100,  -100,  -100,  -100,  -100,  -100,  -100,  -100,  -100,\n",
      "         -100,  -100,  -100,  -100,  -100,  -100,  -100,  -100,  -100,  -100,\n",
      "         -100,  -100,  -100,  -100,  -100,  -100])}\n",
      "\n",
      "Decoded Data:\n",
      "{'decoded_input': 'Điều 1. Phạm vi điều   luật này quy định địa vị pháp lý,   pháp lý về cách ứng xử của cá  pháp    vụ  nhân thân và tài sản của   pháp nhân trong các quan hệ được hình thành   sở bình  tự do ý  độc lập về tài sản và tự  trách nhiệm (sau đây  chung  quan hệ dân sự).', 'decoded_labels': 'chỉnh  Bộ  chuẩn  mực  nhân,  nhân;  quyền,  nghĩa  về  cá  nhân,  trên  cơ  đẳng,  chí,  chịu  gọi  là'}\n"
     ]
    }
   ],
   "source": [
    "# Hàm giải mã\n",
    "def decode_data(preprocessed):\n",
    "    decoded_input = tokenizer.decode(preprocessed[\"input_ids\"], skip_special_tokens=True)\n",
    "    decoded_labels = tokenizer.decode(\n",
    "        [label for label in preprocessed[\"labels\"] if label != -100],  # Bỏ qua -100\n",
    "        skip_special_tokens=True\n",
    "    )\n",
    "    return {\n",
    "        \"decoded_input\": decoded_input,\n",
    "        \"decoded_labels\": decoded_labels,\n",
    "    }\n",
    "\n",
    "# Ví dụ câu hỏi tiếng Việt\n",
    "example = {\n",
    "    \"input_text\": train_df.iloc[0]['input_text'],\n",
    "    \"target_text\": train_df.iloc[0]['target_text']\n",
    "}\n",
    "\n",
    "# Tiền xử lý dữ liệu\n",
    "preprocessed = preprocess_data(example)\n",
    "\n",
    "# Giải mã dữ liệu\n",
    "decoded = decode_data(preprocessed)\n",
    "\n",
    "print(\"Ori data:\")\n",
    "print(train_df.iloc[0])\n",
    "print(\"Preprocessed Data:\")\n",
    "print(preprocessed)\n",
    "print(\"\\nDecoded Data:\")\n",
    "print(decoded)"
   ]
  },
  {
   "cell_type": "code",
   "execution_count": 12,
   "metadata": {
    "execution": {
     "iopub.execute_input": "2025-01-29T08:18:14.126135Z",
     "iopub.status.busy": "2025-01-29T08:18:14.125840Z",
     "iopub.status.idle": "2025-01-29T08:18:14.130502Z",
     "shell.execute_reply": "2025-01-29T08:18:14.129425Z",
     "shell.execute_reply.started": "2025-01-29T08:18:14.126108Z"
    },
    "trusted": true
   },
   "outputs": [],
   "source": [
    "# decode_data(train_dataset[312])"
   ]
  },
  {
   "cell_type": "code",
   "execution_count": 13,
   "metadata": {
    "execution": {
     "iopub.execute_input": "2025-01-29T08:18:14.132955Z",
     "iopub.status.busy": "2025-01-29T08:18:14.131979Z",
     "iopub.status.idle": "2025-01-29T08:18:14.147850Z",
     "shell.execute_reply": "2025-01-29T08:18:14.146814Z",
     "shell.execute_reply.started": "2025-01-29T08:18:14.132904Z"
    },
    "trusted": true
   },
   "outputs": [
    {
     "name": "stdout",
     "output_type": "stream",
     "text": [
      "input_ids: 256\n",
      "attention_mask: 256\n",
      "labels: 256\n"
     ]
    }
   ],
   "source": [
    "print('input_ids:',len(train_dataset[0]['input_ids']))\n",
    "print('attention_mask:',len(train_dataset[0]['attention_mask']))\n",
    "print('labels:',len(train_dataset[0]['labels']))"
   ]
  },
  {
   "cell_type": "code",
   "execution_count": 14,
   "metadata": {
    "execution": {
     "iopub.execute_input": "2025-01-29T08:18:14.149493Z",
     "iopub.status.busy": "2025-01-29T08:18:14.149118Z",
     "iopub.status.idle": "2025-01-29T08:18:14.161832Z",
     "shell.execute_reply": "2025-01-29T08:18:14.160868Z",
     "shell.execute_reply.started": "2025-01-29T08:18:14.149448Z"
    },
    "trusted": true
   },
   "outputs": [
    {
     "name": "stdout",
     "output_type": "stream",
     "text": [
      "Length Train_Dataset: 689\n",
      "Length Eval_Dataset: 433\n"
     ]
    }
   ],
   "source": [
    "print(\"Length Train_Dataset:\",len(train_dataset))\n",
    "print(\"Length Eval_Dataset:\",len(eval_dataset))"
   ]
  },
  {
   "cell_type": "code",
   "execution_count": 15,
   "metadata": {
    "execution": {
     "iopub.execute_input": "2025-01-29T08:18:14.163260Z",
     "iopub.status.busy": "2025-01-29T08:18:14.163019Z",
     "iopub.status.idle": "2025-01-29T08:18:14.177659Z",
     "shell.execute_reply": "2025-01-29T08:18:14.176650Z",
     "shell.execute_reply.started": "2025-01-29T08:18:14.163235Z"
    },
    "trusted": true
   },
   "outputs": [
    {
     "data": {
      "text/plain": [
       "Dataset({\n",
       "    features: ['input_ids', 'attention_mask', 'labels'],\n",
       "    num_rows: 433\n",
       "})"
      ]
     },
     "execution_count": 15,
     "metadata": {},
     "output_type": "execute_result"
    }
   ],
   "source": [
    "eval_dataset"
   ]
  },
  {
   "cell_type": "markdown",
   "metadata": {},
   "source": [
    "# Fine Tuning Model"
   ]
  },
  {
   "cell_type": "code",
   "execution_count": 17,
   "metadata": {
    "execution": {
     "iopub.execute_input": "2025-01-29T08:19:52.990865Z",
     "iopub.status.busy": "2025-01-29T08:19:52.990031Z",
     "iopub.status.idle": "2025-01-29T08:42:10.422933Z",
     "shell.execute_reply": "2025-01-29T08:42:10.421472Z",
     "shell.execute_reply.started": "2025-01-29T08:19:52.990823Z"
    },
    "trusted": true
   },
   "outputs": [
    {
     "name": "stderr",
     "output_type": "stream",
     "text": [
      "/opt/conda/lib/python3.10/site-packages/accelerate/accelerator.py:494: FutureWarning: `torch.cuda.amp.GradScaler(args...)` is deprecated. Please use `torch.amp.GradScaler('cuda', args...)` instead.\n",
      "  self.scaler = torch.cuda.amp.GradScaler(**kwargs)\n",
      "/opt/conda/lib/python3.10/site-packages/transformers/optimization.py:411: FutureWarning: This implementation of AdamW is deprecated and will be removed in a future version. Use the PyTorch implementation torch.optim.AdamW instead, or set `no_deprecation_warning=True` to disable this warning\n",
      "  warnings.warn(\n",
      "/opt/conda/lib/python3.10/multiprocessing/popen_fork.py:66: RuntimeWarning: os.fork() was called. os.fork() is incompatible with multithreaded code, and JAX is multithreaded, so this will likely lead to a deadlock.\n",
      "  self.pid = os.fork()\n"
     ]
    },
    {
     "data": {
      "text/html": [
       "\n",
       "    <div>\n",
       "      \n",
       "      <progress value='860' max='860' style='width:300px; height:20px; vertical-align: middle;'></progress>\n",
       "      [860/860 22:09, Epoch 19/20]\n",
       "    </div>\n",
       "    <table border=\"1\" class=\"dataframe\">\n",
       "  <thead>\n",
       " <tr style=\"text-align: left;\">\n",
       "      <th>Epoch</th>\n",
       "      <th>Training Loss</th>\n",
       "      <th>Validation Loss</th>\n",
       "    </tr>\n",
       "  </thead>\n",
       "  <tbody>\n",
       "    <tr>\n",
       "      <td>0</td>\n",
       "      <td>No log</td>\n",
       "      <td>2.957640</td>\n",
       "    </tr>\n",
       "    <tr>\n",
       "      <td>2</td>\n",
       "      <td>No log</td>\n",
       "      <td>2.672874</td>\n",
       "    </tr>\n",
       "    <tr>\n",
       "      <td>2</td>\n",
       "      <td>3.213200</td>\n",
       "      <td>2.436282</td>\n",
       "    </tr>\n",
       "    <tr>\n",
       "      <td>4</td>\n",
       "      <td>3.213200</td>\n",
       "      <td>2.161110</td>\n",
       "    </tr>\n",
       "    <tr>\n",
       "      <td>4</td>\n",
       "      <td>2.126500</td>\n",
       "      <td>2.203597</td>\n",
       "    </tr>\n",
       "    <tr>\n",
       "      <td>6</td>\n",
       "      <td>2.126500</td>\n",
       "      <td>1.970882</td>\n",
       "    </tr>\n",
       "    <tr>\n",
       "      <td>6</td>\n",
       "      <td>1.720000</td>\n",
       "      <td>1.921556</td>\n",
       "    </tr>\n",
       "    <tr>\n",
       "      <td>8</td>\n",
       "      <td>1.720000</td>\n",
       "      <td>1.811126</td>\n",
       "    </tr>\n",
       "    <tr>\n",
       "      <td>8</td>\n",
       "      <td>1.720000</td>\n",
       "      <td>1.782897</td>\n",
       "    </tr>\n",
       "    <tr>\n",
       "      <td>10</td>\n",
       "      <td>1.423200</td>\n",
       "      <td>1.738850</td>\n",
       "    </tr>\n",
       "    <tr>\n",
       "      <td>10</td>\n",
       "      <td>1.423200</td>\n",
       "      <td>1.709609</td>\n",
       "    </tr>\n",
       "    <tr>\n",
       "      <td>12</td>\n",
       "      <td>1.225900</td>\n",
       "      <td>1.637448</td>\n",
       "    </tr>\n",
       "    <tr>\n",
       "      <td>12</td>\n",
       "      <td>1.225900</td>\n",
       "      <td>1.584567</td>\n",
       "    </tr>\n",
       "    <tr>\n",
       "      <td>14</td>\n",
       "      <td>1.041400</td>\n",
       "      <td>1.564613</td>\n",
       "    </tr>\n",
       "    <tr>\n",
       "      <td>14</td>\n",
       "      <td>1.041400</td>\n",
       "      <td>1.522942</td>\n",
       "    </tr>\n",
       "    <tr>\n",
       "      <td>16</td>\n",
       "      <td>1.041400</td>\n",
       "      <td>1.536090</td>\n",
       "    </tr>\n",
       "    <tr>\n",
       "      <td>16</td>\n",
       "      <td>0.852700</td>\n",
       "      <td>1.487795</td>\n",
       "    </tr>\n",
       "    <tr>\n",
       "      <td>18</td>\n",
       "      <td>0.852700</td>\n",
       "      <td>1.494318</td>\n",
       "    </tr>\n",
       "    <tr>\n",
       "      <td>18</td>\n",
       "      <td>0.733800</td>\n",
       "      <td>1.491698</td>\n",
       "    </tr>\n",
       "    <tr>\n",
       "      <td>19</td>\n",
       "      <td>0.733800</td>\n",
       "      <td>1.480006</td>\n",
       "    </tr>\n",
       "  </tbody>\n",
       "</table><p>"
      ],
      "text/plain": [
       "<IPython.core.display.HTML object>"
      ]
     },
     "metadata": {},
     "output_type": "display_data"
    },
    {
     "name": "stderr",
     "output_type": "stream",
     "text": [
      "/opt/conda/lib/python3.10/multiprocessing/popen_fork.py:66: RuntimeWarning: os.fork() was called. os.fork() is incompatible with multithreaded code, and JAX is multithreaded, so this will likely lead to a deadlock.\n",
      "  self.pid = os.fork()\n",
      "/opt/conda/lib/python3.10/multiprocessing/popen_fork.py:66: RuntimeWarning: os.fork() was called. os.fork() is incompatible with multithreaded code, and JAX is multithreaded, so this will likely lead to a deadlock.\n",
      "  self.pid = os.fork()\n",
      "/opt/conda/lib/python3.10/multiprocessing/popen_fork.py:66: RuntimeWarning: os.fork() was called. os.fork() is incompatible with multithreaded code, and JAX is multithreaded, so this will likely lead to a deadlock.\n",
      "  self.pid = os.fork()\n",
      "/opt/conda/lib/python3.10/multiprocessing/popen_fork.py:66: RuntimeWarning: os.fork() was called. os.fork() is incompatible with multithreaded code, and JAX is multithreaded, so this will likely lead to a deadlock.\n",
      "  self.pid = os.fork()\n",
      "/opt/conda/lib/python3.10/multiprocessing/popen_fork.py:66: RuntimeWarning: os.fork() was called. os.fork() is incompatible with multithreaded code, and JAX is multithreaded, so this will likely lead to a deadlock.\n",
      "  self.pid = os.fork()\n",
      "/opt/conda/lib/python3.10/multiprocessing/popen_fork.py:66: RuntimeWarning: os.fork() was called. os.fork() is incompatible with multithreaded code, and JAX is multithreaded, so this will likely lead to a deadlock.\n",
      "  self.pid = os.fork()\n",
      "/opt/conda/lib/python3.10/multiprocessing/popen_fork.py:66: RuntimeWarning: os.fork() was called. os.fork() is incompatible with multithreaded code, and JAX is multithreaded, so this will likely lead to a deadlock.\n",
      "  self.pid = os.fork()\n",
      "/opt/conda/lib/python3.10/multiprocessing/popen_fork.py:66: RuntimeWarning: os.fork() was called. os.fork() is incompatible with multithreaded code, and JAX is multithreaded, so this will likely lead to a deadlock.\n",
      "  self.pid = os.fork()\n",
      "/opt/conda/lib/python3.10/multiprocessing/popen_fork.py:66: RuntimeWarning: os.fork() was called. os.fork() is incompatible with multithreaded code, and JAX is multithreaded, so this will likely lead to a deadlock.\n",
      "  self.pid = os.fork()\n",
      "/opt/conda/lib/python3.10/multiprocessing/popen_fork.py:66: RuntimeWarning: os.fork() was called. os.fork() is incompatible with multithreaded code, and JAX is multithreaded, so this will likely lead to a deadlock.\n",
      "  self.pid = os.fork()\n",
      "/opt/conda/lib/python3.10/multiprocessing/popen_fork.py:66: RuntimeWarning: os.fork() was called. os.fork() is incompatible with multithreaded code, and JAX is multithreaded, so this will likely lead to a deadlock.\n",
      "  self.pid = os.fork()\n",
      "/opt/conda/lib/python3.10/multiprocessing/popen_fork.py:66: RuntimeWarning: os.fork() was called. os.fork() is incompatible with multithreaded code, and JAX is multithreaded, so this will likely lead to a deadlock.\n",
      "  self.pid = os.fork()\n",
      "/opt/conda/lib/python3.10/multiprocessing/popen_fork.py:66: RuntimeWarning: os.fork() was called. os.fork() is incompatible with multithreaded code, and JAX is multithreaded, so this will likely lead to a deadlock.\n",
      "  self.pid = os.fork()\n",
      "/opt/conda/lib/python3.10/multiprocessing/popen_fork.py:66: RuntimeWarning: os.fork() was called. os.fork() is incompatible with multithreaded code, and JAX is multithreaded, so this will likely lead to a deadlock.\n",
      "  self.pid = os.fork()\n",
      "/opt/conda/lib/python3.10/multiprocessing/popen_fork.py:66: RuntimeWarning: os.fork() was called. os.fork() is incompatible with multithreaded code, and JAX is multithreaded, so this will likely lead to a deadlock.\n",
      "  self.pid = os.fork()\n",
      "/opt/conda/lib/python3.10/multiprocessing/popen_fork.py:66: RuntimeWarning: os.fork() was called. os.fork() is incompatible with multithreaded code, and JAX is multithreaded, so this will likely lead to a deadlock.\n",
      "  self.pid = os.fork()\n",
      "/opt/conda/lib/python3.10/multiprocessing/popen_fork.py:66: RuntimeWarning: os.fork() was called. os.fork() is incompatible with multithreaded code, and JAX is multithreaded, so this will likely lead to a deadlock.\n",
      "  self.pid = os.fork()\n",
      "/opt/conda/lib/python3.10/multiprocessing/popen_fork.py:66: RuntimeWarning: os.fork() was called. os.fork() is incompatible with multithreaded code, and JAX is multithreaded, so this will likely lead to a deadlock.\n",
      "  self.pid = os.fork()\n",
      "/opt/conda/lib/python3.10/multiprocessing/popen_fork.py:66: RuntimeWarning: os.fork() was called. os.fork() is incompatible with multithreaded code, and JAX is multithreaded, so this will likely lead to a deadlock.\n",
      "  self.pid = os.fork()\n",
      "/opt/conda/lib/python3.10/multiprocessing/popen_fork.py:66: RuntimeWarning: os.fork() was called. os.fork() is incompatible with multithreaded code, and JAX is multithreaded, so this will likely lead to a deadlock.\n",
      "  self.pid = os.fork()\n",
      "/opt/conda/lib/python3.10/multiprocessing/popen_fork.py:66: RuntimeWarning: os.fork() was called. os.fork() is incompatible with multithreaded code, and JAX is multithreaded, so this will likely lead to a deadlock.\n",
      "  self.pid = os.fork()\n",
      "/opt/conda/lib/python3.10/multiprocessing/popen_fork.py:66: RuntimeWarning: os.fork() was called. os.fork() is incompatible with multithreaded code, and JAX is multithreaded, so this will likely lead to a deadlock.\n",
      "  self.pid = os.fork()\n",
      "/opt/conda/lib/python3.10/multiprocessing/popen_fork.py:66: RuntimeWarning: os.fork() was called. os.fork() is incompatible with multithreaded code, and JAX is multithreaded, so this will likely lead to a deadlock.\n",
      "  self.pid = os.fork()\n",
      "/opt/conda/lib/python3.10/multiprocessing/popen_fork.py:66: RuntimeWarning: os.fork() was called. os.fork() is incompatible with multithreaded code, and JAX is multithreaded, so this will likely lead to a deadlock.\n",
      "  self.pid = os.fork()\n",
      "/opt/conda/lib/python3.10/multiprocessing/popen_fork.py:66: RuntimeWarning: os.fork() was called. os.fork() is incompatible with multithreaded code, and JAX is multithreaded, so this will likely lead to a deadlock.\n",
      "  self.pid = os.fork()\n",
      "/opt/conda/lib/python3.10/multiprocessing/popen_fork.py:66: RuntimeWarning: os.fork() was called. os.fork() is incompatible with multithreaded code, and JAX is multithreaded, so this will likely lead to a deadlock.\n",
      "  self.pid = os.fork()\n",
      "/opt/conda/lib/python3.10/multiprocessing/popen_fork.py:66: RuntimeWarning: os.fork() was called. os.fork() is incompatible with multithreaded code, and JAX is multithreaded, so this will likely lead to a deadlock.\n",
      "  self.pid = os.fork()\n",
      "/opt/conda/lib/python3.10/multiprocessing/popen_fork.py:66: RuntimeWarning: os.fork() was called. os.fork() is incompatible with multithreaded code, and JAX is multithreaded, so this will likely lead to a deadlock.\n",
      "  self.pid = os.fork()\n",
      "/opt/conda/lib/python3.10/multiprocessing/popen_fork.py:66: RuntimeWarning: os.fork() was called. os.fork() is incompatible with multithreaded code, and JAX is multithreaded, so this will likely lead to a deadlock.\n",
      "  self.pid = os.fork()\n",
      "/opt/conda/lib/python3.10/multiprocessing/popen_fork.py:66: RuntimeWarning: os.fork() was called. os.fork() is incompatible with multithreaded code, and JAX is multithreaded, so this will likely lead to a deadlock.\n",
      "  self.pid = os.fork()\n",
      "/opt/conda/lib/python3.10/multiprocessing/popen_fork.py:66: RuntimeWarning: os.fork() was called. os.fork() is incompatible with multithreaded code, and JAX is multithreaded, so this will likely lead to a deadlock.\n",
      "  self.pid = os.fork()\n",
      "/opt/conda/lib/python3.10/multiprocessing/popen_fork.py:66: RuntimeWarning: os.fork() was called. os.fork() is incompatible with multithreaded code, and JAX is multithreaded, so this will likely lead to a deadlock.\n",
      "  self.pid = os.fork()\n",
      "/opt/conda/lib/python3.10/multiprocessing/popen_fork.py:66: RuntimeWarning: os.fork() was called. os.fork() is incompatible with multithreaded code, and JAX is multithreaded, so this will likely lead to a deadlock.\n",
      "  self.pid = os.fork()\n",
      "/opt/conda/lib/python3.10/multiprocessing/popen_fork.py:66: RuntimeWarning: os.fork() was called. os.fork() is incompatible with multithreaded code, and JAX is multithreaded, so this will likely lead to a deadlock.\n",
      "  self.pid = os.fork()\n",
      "/opt/conda/lib/python3.10/multiprocessing/popen_fork.py:66: RuntimeWarning: os.fork() was called. os.fork() is incompatible with multithreaded code, and JAX is multithreaded, so this will likely lead to a deadlock.\n",
      "  self.pid = os.fork()\n",
      "/opt/conda/lib/python3.10/multiprocessing/popen_fork.py:66: RuntimeWarning: os.fork() was called. os.fork() is incompatible with multithreaded code, and JAX is multithreaded, so this will likely lead to a deadlock.\n",
      "  self.pid = os.fork()\n",
      "/opt/conda/lib/python3.10/multiprocessing/popen_fork.py:66: RuntimeWarning: os.fork() was called. os.fork() is incompatible with multithreaded code, and JAX is multithreaded, so this will likely lead to a deadlock.\n",
      "  self.pid = os.fork()\n",
      "/opt/conda/lib/python3.10/multiprocessing/popen_fork.py:66: RuntimeWarning: os.fork() was called. os.fork() is incompatible with multithreaded code, and JAX is multithreaded, so this will likely lead to a deadlock.\n",
      "  self.pid = os.fork()\n",
      "/opt/conda/lib/python3.10/multiprocessing/popen_fork.py:66: RuntimeWarning: os.fork() was called. os.fork() is incompatible with multithreaded code, and JAX is multithreaded, so this will likely lead to a deadlock.\n",
      "  self.pid = os.fork()\n",
      "/opt/conda/lib/python3.10/site-packages/transformers/trainer.py:2159: FutureWarning: You are using `torch.load` with `weights_only=False` (the current default value), which uses the default pickle module implicitly. It is possible to construct malicious pickle data which will execute arbitrary code during unpickling (See https://github.com/pytorch/pytorch/blob/main/SECURITY.md#untrusted-models for more details). In a future release, the default value for `weights_only` will be flipped to `True`. This limits the functions that could be executed during unpickling. Arbitrary objects will no longer be allowed to be loaded via this mode unless they are explicitly allowlisted by the user via `torch.serialization.add_safe_globals`. We recommend you start setting `weights_only=True` for any use case where you don't have full control of the loaded file. Please open an issue on GitHub for any issues related to this experimental feature.\n",
      "  state_dict = torch.load(best_model_path, map_location=\"cpu\")\n"
     ]
    },
    {
     "data": {
      "text/plain": [
       "TrainOutput(global_step=860, training_loss=1.4823713746181755, metrics={'train_runtime': 1332.2776, 'train_samples_per_second': 10.343, 'train_steps_per_second': 0.646, 'total_flos': 4149134587330560.0, 'train_loss': 1.4823713746181755, 'epoch': 19.77})"
      ]
     },
     "execution_count": 17,
     "metadata": {},
     "output_type": "execute_result"
    }
   ],
   "source": [
    "# Khởi tạo mô hình và tokenizer\n",
    "model = AutoModelForSeq2SeqLM.from_pretrained(model_name).to(device)\n",
    "model.resize_token_embeddings(len(tokenizer))\n",
    "\n",
    "# Nếu có nhiều GPU\n",
    "if torch.cuda.device_count() > 1:\n",
    "    model = torch.nn.DataParallel(model)\n",
    "\n",
    "# Thiết lập thông số huấn luyện\n",
    "training_args = Seq2SeqTrainingArguments(\n",
    "    output_dir=\"./results\",\n",
    "    report_to=\"none\",\n",
    "    evaluation_strategy=\"epoch\",  # Đánh giá sau mỗi epoch\n",
    "    save_strategy=\"epoch\",  # Lưu mô hình sau mỗi epoch\n",
    "    logging_dir=\"./logs\",\n",
    "    logging_steps=100,\n",
    "    per_device_train_batch_size=8,\n",
    "    per_device_eval_batch_size=8,\n",
    "    num_train_epochs=20,\n",
    "    weight_decay=0.01,\n",
    "    save_total_limit=2,\n",
    "    eval_accumulation_steps=2,\n",
    "    dataloader_num_workers=4,\n",
    "    gradient_accumulation_steps=2,\n",
    "    fp16=True,\n",
    "    remove_unused_columns=False,\n",
    "    predict_with_generate=True,\n",
    "    load_best_model_at_end=True,  # Lưu mô hình tốt nhất\n",
    "    metric_for_best_model=\"eval_loss\",  # Cải thiện mô hình theo loss hoặc metric khác\n",
    ")\n",
    "\n",
    "# Khởi tạo EarlyStoppingCallback với số epoch không cải thiện (patience)\n",
    "early_stopping = EarlyStoppingCallback(early_stopping_patience=3)\n",
    "\n",
    "# Khởi tạo trainer\n",
    "trainer = Seq2SeqTrainer(\n",
    "    model=model,\n",
    "    args=training_args,\n",
    "    train_dataset=train_dataset,\n",
    "    eval_dataset=eval_dataset,\n",
    "    callbacks=[early_stopping],\n",
    ")\n",
    "\n",
    "# Huấn luyện mô hình\n",
    "trainer.train()"
   ]
  },
  {
   "cell_type": "markdown",
   "metadata": {},
   "source": [
    "## Save model"
   ]
  },
  {
   "cell_type": "code",
   "execution_count": 18,
   "metadata": {
    "execution": {
     "iopub.execute_input": "2025-01-29T08:42:10.426710Z",
     "iopub.status.busy": "2025-01-29T08:42:10.425686Z",
     "iopub.status.idle": "2025-01-29T08:43:05.100493Z",
     "shell.execute_reply": "2025-01-29T08:43:05.099346Z",
     "shell.execute_reply.started": "2025-01-29T08:42:10.426626Z"
    },
    "trusted": true
   },
   "outputs": [
    {
     "data": {
      "text/plain": [
       "'/kaggle/working/Best_T5_Chatbot.zip'"
      ]
     },
     "execution_count": 18,
     "metadata": {},
     "output_type": "execute_result"
    }
   ],
   "source": [
    "# Lưu mô hình\n",
    "model.save_pretrained(\"./results/best_model\")\n",
    "tokenizer.save_pretrained(\"./results/best_model\")\n",
    "\n",
    "# Nén thư mục thành file ZIP\n",
    "shutil.make_archive(\"Best_T5_Chatbot\", 'zip', \"./results/best_model\")"
   ]
  },
  {
   "cell_type": "code",
   "execution_count": 19,
   "metadata": {
    "execution": {
     "iopub.execute_input": "2025-01-29T08:43:05.102059Z",
     "iopub.status.busy": "2025-01-29T08:43:05.101743Z",
     "iopub.status.idle": "2025-01-29T08:43:05.109599Z",
     "shell.execute_reply": "2025-01-29T08:43:05.108476Z",
     "shell.execute_reply.started": "2025-01-29T08:43:05.102031Z"
    },
    "trusted": true
   },
   "outputs": [
    {
     "data": {
      "text/html": [
       "<a href='Best_T5_Chatbot.zip' target='_blank'>Best_T5_Chatbot.zip</a><br>"
      ],
      "text/plain": [
       "/kaggle/working/Best_T5_Chatbot.zip"
      ]
     },
     "metadata": {},
     "output_type": "display_data"
    },
    {
     "name": "stdout",
     "output_type": "stream",
     "text": [
      "Model and tokenizer saved successfully!\n"
     ]
    }
   ],
   "source": [
    "from IPython.display import FileLink\n",
    "\n",
    "# Tạo liên kết tải xuống\n",
    "file_link = FileLink(r'Best_T5_Chatbot.zip')\n",
    "display(file_link)\n",
    "\n",
    "print(\"Model and tokenizer saved successfully!\")"
   ]
  },
  {
   "cell_type": "markdown",
   "metadata": {},
   "source": [
    "# Inference"
   ]
  },
  {
   "cell_type": "code",
   "execution_count": 20,
   "metadata": {
    "execution": {
     "iopub.execute_input": "2025-01-29T08:43:59.133814Z",
     "iopub.status.busy": "2025-01-29T08:43:59.133381Z",
     "iopub.status.idle": "2025-01-29T08:44:02.526733Z",
     "shell.execute_reply": "2025-01-29T08:44:02.525673Z",
     "shell.execute_reply.started": "2025-01-29T08:43:59.133780Z"
    },
    "scrolled": true,
    "trusted": true
   },
   "outputs": [
    {
     "name": "stderr",
     "output_type": "stream",
     "text": [
      "/opt/conda/lib/python3.10/site-packages/transformers/modeling_utils.py:460: FutureWarning: You are using `torch.load` with `weights_only=False` (the current default value), which uses the default pickle module implicitly. It is possible to construct malicious pickle data which will execute arbitrary code during unpickling (See https://github.com/pytorch/pytorch/blob/main/SECURITY.md#untrusted-models for more details). In a future release, the default value for `weights_only` will be flipped to `True`. This limits the functions that could be executed during unpickling. Arbitrary objects will no longer be allowed to be loaded via this mode unless they are explicitly allowlisted by the user via `torch.serialization.add_safe_globals`. We recommend you start setting `weights_only=True` for any use case where you don't have full control of the loaded file. Please open an issue on GitHub for any issues related to this experimental feature.\n",
      "  return torch.load(checkpoint_file, map_location=\"cpu\")\n"
     ]
    },
    {
     "data": {
      "text/plain": [
       "T5ForConditionalGeneration(\n",
       "  (shared): Embedding(36096, 768)\n",
       "  (encoder): T5Stack(\n",
       "    (embed_tokens): Embedding(36096, 768)\n",
       "    (block): ModuleList(\n",
       "      (0): T5Block(\n",
       "        (layer): ModuleList(\n",
       "          (0): T5LayerSelfAttention(\n",
       "            (SelfAttention): T5Attention(\n",
       "              (q): Linear(in_features=768, out_features=768, bias=False)\n",
       "              (k): Linear(in_features=768, out_features=768, bias=False)\n",
       "              (v): Linear(in_features=768, out_features=768, bias=False)\n",
       "              (o): Linear(in_features=768, out_features=768, bias=False)\n",
       "              (relative_attention_bias): Embedding(32, 12)\n",
       "            )\n",
       "            (layer_norm): T5LayerNorm()\n",
       "            (dropout): Dropout(p=0.1, inplace=False)\n",
       "          )\n",
       "          (1): T5LayerFF(\n",
       "            (DenseReluDense): T5DenseActDense(\n",
       "              (wi): Linear(in_features=768, out_features=3072, bias=False)\n",
       "              (wo): Linear(in_features=3072, out_features=768, bias=False)\n",
       "              (dropout): Dropout(p=0.1, inplace=False)\n",
       "              (act): ReLU()\n",
       "            )\n",
       "            (layer_norm): T5LayerNorm()\n",
       "            (dropout): Dropout(p=0.1, inplace=False)\n",
       "          )\n",
       "        )\n",
       "      )\n",
       "      (1-11): 11 x T5Block(\n",
       "        (layer): ModuleList(\n",
       "          (0): T5LayerSelfAttention(\n",
       "            (SelfAttention): T5Attention(\n",
       "              (q): Linear(in_features=768, out_features=768, bias=False)\n",
       "              (k): Linear(in_features=768, out_features=768, bias=False)\n",
       "              (v): Linear(in_features=768, out_features=768, bias=False)\n",
       "              (o): Linear(in_features=768, out_features=768, bias=False)\n",
       "            )\n",
       "            (layer_norm): T5LayerNorm()\n",
       "            (dropout): Dropout(p=0.1, inplace=False)\n",
       "          )\n",
       "          (1): T5LayerFF(\n",
       "            (DenseReluDense): T5DenseActDense(\n",
       "              (wi): Linear(in_features=768, out_features=3072, bias=False)\n",
       "              (wo): Linear(in_features=3072, out_features=768, bias=False)\n",
       "              (dropout): Dropout(p=0.1, inplace=False)\n",
       "              (act): ReLU()\n",
       "            )\n",
       "            (layer_norm): T5LayerNorm()\n",
       "            (dropout): Dropout(p=0.1, inplace=False)\n",
       "          )\n",
       "        )\n",
       "      )\n",
       "    )\n",
       "    (final_layer_norm): T5LayerNorm()\n",
       "    (dropout): Dropout(p=0.1, inplace=False)\n",
       "  )\n",
       "  (decoder): T5Stack(\n",
       "    (embed_tokens): Embedding(36096, 768)\n",
       "    (block): ModuleList(\n",
       "      (0): T5Block(\n",
       "        (layer): ModuleList(\n",
       "          (0): T5LayerSelfAttention(\n",
       "            (SelfAttention): T5Attention(\n",
       "              (q): Linear(in_features=768, out_features=768, bias=False)\n",
       "              (k): Linear(in_features=768, out_features=768, bias=False)\n",
       "              (v): Linear(in_features=768, out_features=768, bias=False)\n",
       "              (o): Linear(in_features=768, out_features=768, bias=False)\n",
       "              (relative_attention_bias): Embedding(32, 12)\n",
       "            )\n",
       "            (layer_norm): T5LayerNorm()\n",
       "            (dropout): Dropout(p=0.1, inplace=False)\n",
       "          )\n",
       "          (1): T5LayerCrossAttention(\n",
       "            (EncDecAttention): T5Attention(\n",
       "              (q): Linear(in_features=768, out_features=768, bias=False)\n",
       "              (k): Linear(in_features=768, out_features=768, bias=False)\n",
       "              (v): Linear(in_features=768, out_features=768, bias=False)\n",
       "              (o): Linear(in_features=768, out_features=768, bias=False)\n",
       "            )\n",
       "            (layer_norm): T5LayerNorm()\n",
       "            (dropout): Dropout(p=0.1, inplace=False)\n",
       "          )\n",
       "          (2): T5LayerFF(\n",
       "            (DenseReluDense): T5DenseActDense(\n",
       "              (wi): Linear(in_features=768, out_features=3072, bias=False)\n",
       "              (wo): Linear(in_features=3072, out_features=768, bias=False)\n",
       "              (dropout): Dropout(p=0.1, inplace=False)\n",
       "              (act): ReLU()\n",
       "            )\n",
       "            (layer_norm): T5LayerNorm()\n",
       "            (dropout): Dropout(p=0.1, inplace=False)\n",
       "          )\n",
       "        )\n",
       "      )\n",
       "      (1-11): 11 x T5Block(\n",
       "        (layer): ModuleList(\n",
       "          (0): T5LayerSelfAttention(\n",
       "            (SelfAttention): T5Attention(\n",
       "              (q): Linear(in_features=768, out_features=768, bias=False)\n",
       "              (k): Linear(in_features=768, out_features=768, bias=False)\n",
       "              (v): Linear(in_features=768, out_features=768, bias=False)\n",
       "              (o): Linear(in_features=768, out_features=768, bias=False)\n",
       "            )\n",
       "            (layer_norm): T5LayerNorm()\n",
       "            (dropout): Dropout(p=0.1, inplace=False)\n",
       "          )\n",
       "          (1): T5LayerCrossAttention(\n",
       "            (EncDecAttention): T5Attention(\n",
       "              (q): Linear(in_features=768, out_features=768, bias=False)\n",
       "              (k): Linear(in_features=768, out_features=768, bias=False)\n",
       "              (v): Linear(in_features=768, out_features=768, bias=False)\n",
       "              (o): Linear(in_features=768, out_features=768, bias=False)\n",
       "            )\n",
       "            (layer_norm): T5LayerNorm()\n",
       "            (dropout): Dropout(p=0.1, inplace=False)\n",
       "          )\n",
       "          (2): T5LayerFF(\n",
       "            (DenseReluDense): T5DenseActDense(\n",
       "              (wi): Linear(in_features=768, out_features=3072, bias=False)\n",
       "              (wo): Linear(in_features=3072, out_features=768, bias=False)\n",
       "              (dropout): Dropout(p=0.1, inplace=False)\n",
       "              (act): ReLU()\n",
       "            )\n",
       "            (layer_norm): T5LayerNorm()\n",
       "            (dropout): Dropout(p=0.1, inplace=False)\n",
       "          )\n",
       "        )\n",
       "      )\n",
       "    )\n",
       "    (final_layer_norm): T5LayerNorm()\n",
       "    (dropout): Dropout(p=0.1, inplace=False)\n",
       "  )\n",
       "  (lm_head): Linear(in_features=768, out_features=36096, bias=False)\n",
       ")"
      ]
     },
     "execution_count": 20,
     "metadata": {},
     "output_type": "execute_result"
    }
   ],
   "source": [
    "model = AutoModelForSeq2SeqLM.from_pretrained('/kaggle/working/results/best_model').to(device)\n",
    "tokenizer = AutoTokenizer.from_pretrained('/kaggle/working/results/best_model')\n",
    "model"
   ]
  },
  {
   "cell_type": "code",
   "execution_count": 69,
   "metadata": {
    "execution": {
     "iopub.execute_input": "2025-01-29T08:59:56.914786Z",
     "iopub.status.busy": "2025-01-29T08:59:56.913722Z",
     "iopub.status.idle": "2025-01-29T08:59:57.475624Z",
     "shell.execute_reply": "2025-01-29T08:59:57.474448Z",
     "shell.execute_reply.started": "2025-01-29T08:59:56.914730Z"
    },
    "trusted": true
   },
   "outputs": [
    {
     "name": "stdout",
     "output_type": "stream",
     "text": [
      "Chatbot response: Điều 159. xier 150: \"Chồng ngoại tình\", vợ không cho về nhà chơi bời?\n"
     ]
    }
   ],
   "source": [
    "# Hàm trả lời chatbot\n",
    "def chatbot_response_no_rag(question):\n",
    "    # Chuẩn bị đầu vào\n",
    "    input_text = f\"{question}\"\n",
    "    input_ids = tokenizer(input_text, \n",
    "                            return_tensors=\"pt\",\n",
    "                            truncation=True,\n",
    "                            return_attention_mask=True, \n",
    "                            add_special_tokens=True, \n",
    "                            padding=\"max_length\", \n",
    "                            max_length=256).input_ids.to(device)\n",
    "\n",
    "    # Suy luận với mô hình mBERT\n",
    "    with torch.no_grad():\n",
    "        outputs = model.generate(\n",
    "            input_ids,\n",
    "            max_length=512,\n",
    "            # num_beams=2,\n",
    "            early_stopping=True,\n",
    "            # do_sample=True,\n",
    "            temperature=1,\n",
    "            top_k=100,\n",
    "            top_p=0.9,\n",
    "            repetition_penalty=1.5\n",
    "        )\n",
    "    \n",
    "    # Giải mã kết quả\n",
    "    response = tokenizer.decode(outputs[0], skip_special_tokens=True)\n",
    "    # response = tokenizer.decode(outputs[0])\n",
    "    return response\n",
    "\n",
    "# Ví dụ câu hỏi\n",
    "question = \"Ngoại tình với người đã có gia đình, bị xử phạt như thế nào?\"\n",
    "response = chatbot_response_no_rag(question)\n",
    "print(\"Chatbot response:\", response)"
   ]
  },
  {
   "cell_type": "code",
   "execution_count": 70,
   "metadata": {
    "execution": {
     "iopub.execute_input": "2025-01-29T09:00:25.856234Z",
     "iopub.status.busy": "2025-01-29T09:00:25.855447Z",
     "iopub.status.idle": "2025-01-29T09:00:53.656316Z",
     "shell.execute_reply": "2025-01-29T09:00:53.654948Z",
     "shell.execute_reply.started": "2025-01-29T09:00:25.856192Z"
    },
    "trusted": true
   },
   "outputs": [
    {
     "name": "stderr",
     "output_type": "stream",
     "text": [
      "/opt/conda/lib/python3.10/site-packages/huggingface_hub/file_download.py:1142: FutureWarning: `resume_download` is deprecated and will be removed in version 1.0.0. Downloads always resume when possible. If you want to force a new download, use `force_download=True`.\n",
      "  warnings.warn(\n",
      "Some weights of RobertaModel were not initialized from the model checkpoint at roberta-large and are newly initialized: ['roberta.pooler.dense.weight', 'roberta.pooler.dense.bias']\n",
      "You should probably TRAIN this model on a down-stream task to be able to use it for predictions and inference.\n"
     ]
    },
    {
     "data": {
      "text/html": [
       "<div>\n",
       "<style scoped>\n",
       "    .dataframe tbody tr th:only-of-type {\n",
       "        vertical-align: middle;\n",
       "    }\n",
       "\n",
       "    .dataframe tbody tr th {\n",
       "        vertical-align: top;\n",
       "    }\n",
       "\n",
       "    .dataframe thead th {\n",
       "        text-align: right;\n",
       "    }\n",
       "</style>\n",
       "<table border=\"1\" class=\"dataframe\">\n",
       "  <thead>\n",
       "    <tr style=\"text-align: right;\">\n",
       "      <th></th>\n",
       "      <th>question</th>\n",
       "      <th>true_response</th>\n",
       "      <th>predicted_response</th>\n",
       "      <th>bleu</th>\n",
       "      <th>rouge</th>\n",
       "      <th>bertscore</th>\n",
       "    </tr>\n",
       "  </thead>\n",
       "  <tbody>\n",
       "    <tr>\n",
       "      <th>0</th>\n",
       "      <td>Điều 159. Ký phát &lt;extra_id_0&gt; đơn \\n &lt;extra_id_1&gt; Theo &lt;extra_id_2&gt; cầu của &lt;extra_id_3&gt; giao &lt;extra_id_4&gt; người vận chuyển có nghĩa &lt;extra_id_5&gt; &lt;extra_id_6&gt; phát cho người giao hàng một bộ vận đơn. \\n &lt;extra_id_7&gt; &lt;extra_id_8&gt; đơn có thể &lt;extra_id_9&gt; ký phát dưới dạng sau đây: \\n a) Ghi rõ &lt;extra_id_10&gt; người &lt;extra_id_11&gt; &lt;extra_id_12&gt; gọi là vận đơn đích danh; \\n &lt;extra_id_13&gt; Ghi rõ tên &lt;extra_id_14&gt; giao hàng hoặc tên &lt;extra_id_15&gt; người do người &lt;extra_id_16&gt; hàng chỉ định &lt;extra_id_17&gt; &lt;extra_id_18&gt; trả hàng, gọi là vận đơn theo lệnh; \\n c) Không &lt;extra_id_19&gt; rõ tên người nhận hàng &lt;extra_id_20&gt; &lt;extra_id_21&gt; phát lệnh &lt;extra_id_22&gt; &lt;extra_id_23&gt; gọi là vận đơn vô danh. \\n 3. Trường hợp trong vận &lt;extra_id_24&gt; theo lệnh không &lt;extra_id_25&gt; rõ tên người phát lệnh &lt;extra_id_26&gt; &lt;extra_id_27&gt; thì người giao &lt;extra_id_28&gt; mặc nhiên được &lt;extra_id_29&gt; là người có &lt;extra_id_30&gt; đó.</td>\n",
       "      <td>vận  1.  yêu  người  hàng,  vụ  ký  2.  Vận  được  tên  nhận  hàng,  b)  người  những  giao  phát  lệnh  ghi  hoặc  người  trả  hàng,  đơn  ghi  trả  hàng  hàng  coi  quyền</td>\n",
       "      <td>vận  1.  yêu  người  hàng,  vụ  ký  2.  Vận  tên  giao  hàng  b)  người  nhận  c)  người  gửi  hoặc  của  cho  biết  phải  hàng;  ghi  đúng  người  hàng  và  hàng  nhận  quyền</td>\n",
       "      <td>0.370723</td>\n",
       "      <td>{'rouge1': 0.8431372549019608, 'rouge2': 0.5599999999999999, 'rougeL': 0.6862745098039216, 'rougeLsum': 0.6862745098039216}</td>\n",
       "      <td>0.950521</td>\n",
       "    </tr>\n",
       "    <tr>\n",
       "      <th>1</th>\n",
       "      <td>Điều 296. Tội &lt;extra_id_0&gt; &lt;extra_id_1&gt; &lt;extra_id_2&gt; định về sử dụng &lt;extra_id_3&gt; lao động dưới 16 tuổi \\n 1. Người nào sử dụng người &lt;extra_id_4&gt; 16 tuổi làm những công việc &lt;extra_id_5&gt; nhọc, nguy hiểm hoặc tiếp xúc với các &lt;extra_id_6&gt; độc hại theo danh mục &lt;extra_id_7&gt; Nhà nước &lt;extra_id_8&gt; &lt;extra_id_9&gt; thuộc một trong &lt;extra_id_10&gt; trường hợp sau đây, thì bị phạt &lt;extra_id_11&gt; từ &lt;extra_id_12&gt; đồng &lt;extra_id_13&gt; 200.000.000 &lt;extra_id_14&gt; &lt;extra_id_15&gt; cải tạo không giam giữ &lt;extra_id_16&gt; &lt;extra_id_17&gt; năm hoặc phạt tù từ &lt;extra_id_18&gt; tháng &lt;extra_id_19&gt; &lt;extra_id_20&gt; năm: \\n a) Đã &lt;extra_id_21&gt; xử phạt vi phạm hành &lt;extra_id_22&gt; về &lt;extra_id_23&gt; &lt;extra_id_24&gt; &lt;extra_id_25&gt; hoặc đã bị kết &lt;extra_id_26&gt; &lt;extra_id_27&gt; tội này, chưa được xóa án tích mà còn vi phạm; \\n b) Gây thương tích hoặc &lt;extra_id_28&gt; &lt;extra_id_29&gt; hại cho sức &lt;extra_id_30&gt; của &lt;extra_id_31&gt; người với &lt;extra_id_32&gt; &lt;extra_id_33&gt; tổn thương cơ thể từ 31% đến 60%; \\n c) Gây thương tích hoặc gây tổn &lt;extra_id_34&gt; &lt;extra_id_35&gt; sức &lt;extra_id_36&gt; của 02 người &lt;extra_id_37&gt; lên mà &lt;extra_id_38&gt; &lt;extra_id_39&gt; lệ tổn thương cơ thể của những người &lt;extra_id_40&gt; từ 31% đến &lt;extra_id_41&gt; \\n 2. Phạm tội thuộc một &lt;extra_id_42&gt; &lt;extra_id_43&gt; &lt;extra_id_44&gt; hợp sau đây, thì bị phạt &lt;extra_id_45&gt; từ 03 năm đến &lt;extra_id_46&gt; năm: \\n a) Phạm &lt;extra_id_47&gt; 02 lần trở lên; \\n b) Đối &lt;extra_id_48&gt; 02 người trở lên; \\n &lt;extra_id_49&gt; Làm chết 01 &lt;extra_id_50&gt; hoặc gây &lt;extra_id_51&gt; tích hoặc gây tổn hại &lt;extra_id_52&gt; sức &lt;extra_id_53&gt; 01 người với &lt;extra_id_54&gt; &lt;extra_id_55&gt; tổn thương cơ thể 61% trở lên; \\n d) &lt;extra_id_56&gt; thương tích &lt;extra_id_57&gt; gây tổn hại cho &lt;extra_id_58&gt; khỏe của 02 người với tỷ lệ tổn thương cơ thể &lt;extra_id_59&gt; &lt;extra_id_60&gt; &lt;extra_id_61&gt; từ 31% đến &lt;extra_id_62&gt; \\n đ) &lt;extra_id_63&gt; thương tích &lt;extra_id_64&gt; gây tổn hại cho sức khỏe của 03 người trở lên mà tổng tỷ lệ tổn thương cơ &lt;extra_id_65&gt; của những &lt;extra_id_66&gt; &lt;extra_id_67&gt; 61% &lt;extra_id_68&gt; &lt;extra_id_69&gt; \\n 3. Phạm tội thuộc một trong các trường hợp &lt;extra_id_70&gt; &lt;extra_id_71&gt; thì bị phạt tù &lt;extra_id_72&gt; 05 năm đến &lt;extra_id_73&gt; &lt;extra_id_74&gt; \\n &lt;extra_id_75&gt; Làm chết 02 người trở lên; \\n b) Gây thương tích hoặc &lt;extra_id_76&gt; tổn hại cho &lt;extra_id_77&gt; &lt;extra_id_78&gt; của 02 người trở lên với &lt;extra_id_79&gt; &lt;extra_id_80&gt; tổn &lt;extra_id_81&gt; &lt;extra_id_82&gt; thể của mỗi người 61% trở lên; \\n &lt;extra_id_83&gt; Gây thương tích hoặc gây tổn &lt;extra_id_84&gt; cho sức khỏe của &lt;extra_id_85&gt; người trở &lt;extra_id_86&gt; &lt;extra_id_87&gt; tổng tỷ lệ tổn thương cơ thể của những &lt;extra_id_88&gt; này &lt;extra_id_89&gt; trở lên. \\n 4. &lt;extra_id_90&gt; phạm &lt;extra_id_91&gt; còn có thể bị phạt tiền từ 10.000.000 đồng đến &lt;extra_id_92&gt; &lt;extra_id_93&gt;</td>\n",
       "      <td>vi  phạm  quy  người  dưới  nặng  chất  mà  quy  định  các  tiền  30.000.000  đến  đồng,  phạt  đến  03  06  đến  03  bị  chính  hành  vi  này  án  về  gây  tổn  khỏe  01  tỷ  lệ  hại  cho  khỏe  trở  tổng  tỷ  này  60%.  trong  các  trường  tù  07  tội  với  c)  người  thương  cho  khỏe  tỷ  lệ  Gây  hoặc  sức  của  mỗi  người  60%;  Gây  hoặc  thể  người  này  trở  lên.  sau  đây,  từ  10  năm.  a)  gây  sức  khỏe  tỷ  lệ  thương  cơ  c)  hại  03  lên  mà  người  122%  Người  tội  50.000.000  đồng.</td>\n",
       "      <td>phạm  quy  người  dưới  động  nặng  chất  hoá  phẩm  của  nước  thì  phạt  đến  50%;  phạt  tù  30  trở  mức  tịch.  6.  phạm  sau  đây,  bị  án  năm,  7.  phạm  tỷ  thương  cơ  thể  tăng  từ  60%  trở  tỉ  60%  dân  tỷ  người  đó  còn  lại  tỷ  người  là  quá  lần  trở  thường  trong  phạm  điều  Bộ  luật  này,  không  được  quy  định tại  khoản  Điều  này,  có  quy  định khác.</td>\n",
       "      <td>0.057643</td>\n",
       "      <td>{'rouge1': 0.6854838709677419, 'rouge2': 0.2682926829268293, 'rougeL': 0.3790322580645161, 'rougeLsum': 0.3790322580645161}</td>\n",
       "      <td>0.911160</td>\n",
       "    </tr>\n",
       "    <tr>\n",
       "      <th>2</th>\n",
       "      <td>Điều 313. Nghe, xem &lt;extra_id_0&gt; dung được ghi âm hoặc ghi hình &lt;extra_id_1&gt; &lt;extra_id_2&gt; thanh \\n Trường hợp &lt;extra_id_3&gt; kiểm tra chứng cứ, tài liệu, &lt;extra_id_4&gt; vật liên quan &lt;extra_id_5&gt; vụ án &lt;extra_id_6&gt; khi bị cáo &lt;extra_id_7&gt; &lt;extra_id_8&gt; bị bức &lt;extra_id_9&gt; dùng nhục hình, &lt;extra_id_10&gt; đồng &lt;extra_id_11&gt; xử quyết &lt;extra_id_12&gt; việc cho nghe, xem nội dung &lt;extra_id_13&gt; &lt;extra_id_14&gt; âm hoặc ghi hình có &lt;extra_id_15&gt; thanh liên quan tại phiên tòa.</td>\n",
       "      <td>nội  có  âm  cần  đồ  đến  hoặc  tố  cáo  cung,  Hội  xét  định  được  ghi  âm</td>\n",
       "      <td>nội  có  phát  hoặc  khác  trong  được  tụng  mà  bị  án  ép  thì  không  vụ  ghi  hình  âm</td>\n",
       "      <td>0.000000</td>\n",
       "      <td>{'rouge1': 0.6521739130434783, 'rouge2': 0.1818181818181818, 'rougeL': 0.391304347826087, 'rougeLsum': 0.391304347826087}</td>\n",
       "      <td>0.915987</td>\n",
       "    </tr>\n",
       "    <tr>\n",
       "      <th>3</th>\n",
       "      <td>Điều 202. Thực hiện quyền &lt;extra_id_0&gt; hữu toàn dân &lt;extra_id_1&gt; với &lt;extra_id_2&gt; &lt;extra_id_3&gt; &lt;extra_id_4&gt; giao cho &lt;extra_id_5&gt; chức chính trị, tổ chức chính trị - xã hội, tổ &lt;extra_id_6&gt; &lt;extra_id_7&gt; trị xã hội - nghề nghiệp, tổ chức xã hội, tổ &lt;extra_id_8&gt; xã &lt;extra_id_9&gt; - &lt;extra_id_10&gt; nghiệp \\n 1. Khi tài &lt;extra_id_11&gt; thuộc sở hữu &lt;extra_id_12&gt; dân được &lt;extra_id_13&gt; cho &lt;extra_id_14&gt; chức chính trị, tổ &lt;extra_id_15&gt; chính trị - &lt;extra_id_16&gt; &lt;extra_id_17&gt; tổ &lt;extra_id_18&gt; chính trị xã &lt;extra_id_19&gt; - &lt;extra_id_20&gt; nghiệp, tổ chức &lt;extra_id_21&gt; hội, tổ &lt;extra_id_22&gt; xã &lt;extra_id_23&gt; - nghề &lt;extra_id_24&gt; thì Nhà nước thực hiện quyền kiểm tra, giám sát việc quản lý, sử dụng tài sản &lt;extra_id_25&gt; \\n &lt;extra_id_26&gt; Tổ chức chính trị, tổ chức chính trị - xã hội, tổ &lt;extra_id_27&gt; chính trị &lt;extra_id_28&gt; hội &lt;extra_id_29&gt; nghề nghiệp, tổ chức xã hội, tổ chức &lt;extra_id_30&gt; hội - &lt;extra_id_31&gt; nghiệp thực hiện &lt;extra_id_32&gt; quản lý, sử &lt;extra_id_33&gt; tài sản được Nhà nước &lt;extra_id_34&gt; đúng mục đích, &lt;extra_id_35&gt; vi, theo cách thức, trình &lt;extra_id_36&gt; &lt;extra_id_37&gt; pháp luật &lt;extra_id_38&gt; định, phù &lt;extra_id_39&gt; &lt;extra_id_40&gt; chức năng, &lt;extra_id_41&gt; vụ được &lt;extra_id_42&gt; định trong điều &lt;extra_id_43&gt;</td>\n",
       "      <td>sở  đối  tài  sản  được  tổ  chức  chính  chức  hội  nghề  sản  toàn  giao  tổ  chức  xã  hội,  chức  hội  nghề  xã  chức  hội  nghiệp  đó.  2.  chức  xã  -  xã  nghề  việc  dụng  giao  phạm  tự  do  quy  hợp  với  nhiệm  quy  lệ.</td>\n",
       "      <td>sở  đối  tài  sản  được  tổ  chức  chính  chức  hội  nghề  xã  -  hợp  chức  hội  nghiệp.  giao  cho  chức  dân,  chức  hội  làng  nông  lâm  ngư  dụng  của  mình.  2.  chức  xã  -  việc  dụng  quy  pháp  luật.</td>\n",
       "      <td>0.404111</td>\n",
       "      <td>{'rouge1': 0.7777777777777778, 'rouge2': 0.5483870967741935, 'rougeL': 0.5873015873015873, 'rougeLsum': 0.5873015873015873}</td>\n",
       "      <td>0.942111</td>\n",
       "    </tr>\n",
       "    <tr>\n",
       "      <th>4</th>\n",
       "      <td>Điều 3. Các nguyên tắc &lt;extra_id_0&gt; bản của pháp &lt;extra_id_1&gt; &lt;extra_id_2&gt; sự \\n 1. Mọi cá &lt;extra_id_3&gt; pháp &lt;extra_id_4&gt; đều &lt;extra_id_5&gt; &lt;extra_id_6&gt; &lt;extra_id_7&gt; được lấy &lt;extra_id_8&gt; kỳ lý do nào để &lt;extra_id_9&gt; biệt đối xử; được pháp luật bảo hộ như &lt;extra_id_10&gt; về các quyền nhân thân và &lt;extra_id_11&gt; sản. \\n 2. Cá &lt;extra_id_12&gt; pháp nhân xác &lt;extra_id_13&gt; thực &lt;extra_id_14&gt; chấm &lt;extra_id_15&gt; quyền, nghĩa vụ dân &lt;extra_id_16&gt; &lt;extra_id_17&gt; &lt;extra_id_18&gt; trên cơ sở tự do, tự &lt;extra_id_19&gt; cam kết, &lt;extra_id_20&gt; thuận. Mọi cam kết, thỏa thuận không vi &lt;extra_id_21&gt; điều cấm của luật, &lt;extra_id_22&gt; &lt;extra_id_23&gt; đạo đức xã hội có &lt;extra_id_24&gt; lực thực hiện đối với &lt;extra_id_25&gt; &lt;extra_id_26&gt; và phải được chủ thể khác &lt;extra_id_27&gt; trọng. \\n &lt;extra_id_28&gt; Cá &lt;extra_id_29&gt; pháp &lt;extra_id_30&gt; phải xác lập, thực hiện, chấm dứt quyền, nghĩa vụ dân &lt;extra_id_31&gt; &lt;extra_id_32&gt; mình một cách thiện &lt;extra_id_33&gt; trung thực. \\n 4. Việc xác lập, thực &lt;extra_id_34&gt; chấm dứt quyền, nghĩa &lt;extra_id_35&gt; dân &lt;extra_id_36&gt; không được xâm &lt;extra_id_37&gt; &lt;extra_id_38&gt; lợi ích &lt;extra_id_39&gt; gia, &lt;extra_id_40&gt; tộc, lợi ích công cộng, quyền và &lt;extra_id_41&gt; ích hợp pháp của người &lt;extra_id_42&gt; \\n 5. Cá nhân, &lt;extra_id_43&gt; nhân phải tự chịu &lt;extra_id_44&gt; nhiệm về &lt;extra_id_45&gt; &lt;extra_id_46&gt; thực hiện hoặc &lt;extra_id_47&gt; hiện không đúng nghĩa vụ dân &lt;extra_id_48&gt;</td>\n",
       "      <td>cơ  luật  dân  nhân,  nhân  bình  đẳng,  không  bất  phân  nhau  tài  nhân,  lập,  hiện,  dứt  sự  của  mình  nguyện  thỏa  phạm  không  trái  hiệu  các  bên  tôn  3.  nhân,  nhân  sự  của  chí,  hiện,  vụ  sự  phạm  đến  quốc  dân  lợi  khác.  pháp  trách  việc  không  thực  sự.</td>\n",
       "      <td>cơ  luật  dân  nhân,  nhân  không  bất  phân  nhau  tài  cá  nhân,  lập,  hiện,  dứt  sự  mình  với  quyền,  thỏa  thể  tôn  3.  nhân,  nhân  tự  bảo  đảm  việc  ích  cộng,  lợi  khác;  hiện,  vụ  sự  của  pháp  trách  về  hành  vi  hại  đến  quốc  dân  lợi  khác.</td>\n",
       "      <td>0.459521</td>\n",
       "      <td>{'rouge1': 0.8402366863905325, 'rouge2': 0.6227544910179641, 'rougeL': 0.6508875739644969, 'rougeLsum': 0.6508875739644969}</td>\n",
       "      <td>0.951967</td>\n",
       "    </tr>\n",
       "    <tr>\n",
       "      <th>5</th>\n",
       "      <td>Điều 21. &lt;extra_id_0&gt; tên tàu &lt;extra_id_1&gt; Việt Nam \\n Tàu biển &lt;extra_id_2&gt; Nam phải được đặt tên và &lt;extra_id_3&gt; &lt;extra_id_4&gt; tắc sau đây: \\n 1. Tên tàu biển do chủ tàu &lt;extra_id_5&gt; &lt;extra_id_6&gt; không được trùng với &lt;extra_id_7&gt; tàu biển &lt;extra_id_8&gt; đăng &lt;extra_id_9&gt; trong Sổ đăng ký &lt;extra_id_10&gt; biển quốc gia Việt &lt;extra_id_11&gt; \\n &lt;extra_id_12&gt; &lt;extra_id_13&gt; sử dụng tên cơ quan nhà nước, đơn &lt;extra_id_14&gt; lực lượng vũ trang, tổ chức &lt;extra_id_15&gt; &lt;extra_id_16&gt; tổ chức chính &lt;extra_id_17&gt; - &lt;extra_id_18&gt; hội &lt;extra_id_19&gt; làm toàn &lt;extra_id_20&gt; hoặc một phần &lt;extra_id_21&gt; của &lt;extra_id_22&gt; biển, trừ trường hợp có sự chấp &lt;extra_id_23&gt; của cơ quan, đơn &lt;extra_id_24&gt; hoặc tổ chức đó; \\n 3. Không &lt;extra_id_25&gt; dụng từ ngữ, ký hiệu &lt;extra_id_26&gt; phạm truyền thống lịch sử, văn hóa, đạo &lt;extra_id_27&gt; và thuần &lt;extra_id_28&gt; &lt;extra_id_29&gt; tục của &lt;extra_id_30&gt; tộc.</td>\n",
       "      <td>Đặt  biển  Việt  theo  nguyên  đặt  nhưng  tên  đã  ký  tàu  Nam;  2.  Không  vị  chính  trị,  trị  xã  để  bộ  tên  tàu  thuận  vị  sử  vi  đức  phong  mỹ  dân</td>\n",
       "      <td>Đặt  biển  Việt  theo  nguyên  đặt  và  đã  ký;  2.  Không  tên  dân,  tộc,  chức  xã  hoặc  bộ  tàu  nước,  đoàn  thể  quốc  gia  sử  vi  tập  quán  dân</td>\n",
       "      <td>0.256262</td>\n",
       "      <td>{'rouge1': 0.7058823529411764, 'rouge2': 0.40963855421686746, 'rougeL': 0.5411764705882354, 'rougeLsum': 0.5411764705882354}</td>\n",
       "      <td>0.939791</td>\n",
       "    </tr>\n",
       "    <tr>\n",
       "      <th>6</th>\n",
       "      <td>Điều 388. &lt;extra_id_0&gt; &lt;extra_id_1&gt; của Hội đồng giám đốc thẩm \\n 1. Không chấp nhận kháng nghị &lt;extra_id_2&gt; giữ nguyên &lt;extra_id_3&gt; &lt;extra_id_4&gt; &lt;extra_id_5&gt; định &lt;extra_id_6&gt; có hiệu lực pháp luật bị kháng nghị. \\n 2. Hủy bản án, quyết định đã có hiệu lực &lt;extra_id_7&gt; &lt;extra_id_8&gt; và &lt;extra_id_9&gt; nguyên bản án, quyết &lt;extra_id_10&gt; đúng pháp luật của &lt;extra_id_11&gt; &lt;extra_id_12&gt; cấp sơ thẩm hoặc &lt;extra_id_13&gt; án &lt;extra_id_14&gt; phúc thẩm bị hủy, sửa &lt;extra_id_15&gt; đúng pháp &lt;extra_id_16&gt; \\n 3. Hủy bản &lt;extra_id_17&gt; quyết &lt;extra_id_18&gt; đã có hiệu &lt;extra_id_19&gt; &lt;extra_id_20&gt; luật để điều tra &lt;extra_id_21&gt; hoặc xét xử lại. \\n &lt;extra_id_22&gt; Hủy bản án, quyết định &lt;extra_id_23&gt; có hiệu &lt;extra_id_24&gt; pháp luật và đình chỉ &lt;extra_id_25&gt; án. \\n 5. Sửa bản &lt;extra_id_26&gt; quyết định đã có hiệu lực &lt;extra_id_27&gt; &lt;extra_id_28&gt; \\n 6. Đình chỉ xét xử &lt;extra_id_29&gt; &lt;extra_id_30&gt; thẩm.</td>\n",
       "      <td>Thẩm  quyền  và  bản  án,  quyết  đã  pháp  luật  giữ  định  Tòa  án  Tòa  cấp  không  luật.  án,  định  lực  pháp  lại  4.  đã  lực  vụ  án,  pháp  luật.  giám  đốc</td>\n",
       "      <td>Quyền  quyết  định  án,  quyết  đã  hiệu  luật  giữ  lại  bản  định  không  của  tòa  án  bị  sửa.  án,  định  lực  pháp  4.  án,  định  lực  tại  vụ  giám  đốc</td>\n",
       "      <td>0.259845</td>\n",
       "      <td>{'rouge1': 0.7826086956521738, 'rouge2': 0.4, 'rougeL': 0.5652173913043478, 'rougeLsum': 0.5652173913043478}</td>\n",
       "      <td>0.946157</td>\n",
       "    </tr>\n",
       "    <tr>\n",
       "      <th>7</th>\n",
       "      <td>Điều 419. Thiệt hại được &lt;extra_id_0&gt; &lt;extra_id_1&gt; &lt;extra_id_2&gt; vi phạm hợp đồng \\n 1. Thiệt &lt;extra_id_3&gt; được bồi thường do &lt;extra_id_4&gt; phạm nghĩa vụ theo &lt;extra_id_5&gt; đồng được xác định theo &lt;extra_id_6&gt; định &lt;extra_id_7&gt; &lt;extra_id_8&gt; &lt;extra_id_9&gt; Điều này, Điều 13 và &lt;extra_id_10&gt; 360 của Bộ luật này. \\n 2. Người có &lt;extra_id_11&gt; có thể &lt;extra_id_12&gt; cầu &lt;extra_id_13&gt; thường thiệt hại cho lợi ích mà lẽ ra mình sẽ &lt;extra_id_14&gt; hưởng &lt;extra_id_15&gt; hợp đồng mang lại. Người có quyền &lt;extra_id_16&gt; có thể yêu &lt;extra_id_17&gt; người có nghĩa &lt;extra_id_18&gt; chi &lt;extra_id_19&gt; &lt;extra_id_20&gt; phí &lt;extra_id_21&gt; sinh do không hoàn thành &lt;extra_id_22&gt; vụ hợp đồng mà không trùng lặp &lt;extra_id_23&gt; &lt;extra_id_24&gt; bồi thường thiệt hại &lt;extra_id_25&gt; lợi &lt;extra_id_26&gt; &lt;extra_id_27&gt; hợp đồng mang lại. \\n 3. Theo &lt;extra_id_28&gt; cầu của người có quyền, Tòa &lt;extra_id_29&gt; có thể buộc &lt;extra_id_30&gt; có &lt;extra_id_31&gt; &lt;extra_id_32&gt; &lt;extra_id_33&gt; thường thiệt hại về tinh &lt;extra_id_34&gt; cho người có quyền. Mức bồi thường do &lt;extra_id_35&gt; án quyết định căn cứ vào &lt;extra_id_36&gt; dung &lt;extra_id_37&gt; việc.</td>\n",
       "      <td>bồi  thường  do  hại  vi  hợp  quy  tại  khoản  2  Điều  quyền  yêu  bồi  được  do  còn  cầu  vụ  trả  chi  phát  nghĩa  với  mức  cho  ích  mà  yêu  án  người  nghĩa  vụ  bồi  thần  Tòa  nội  vụ</td>\n",
       "      <td>bồi  thường  do  hại  vi  hợp  quy  tại  khoản  2  Điều  quyền  yêu  bồi  cho  ích  mà  mình  được  hưởng  nghĩa  vụ  phải  toán  chi  phát  từ  bên  trách  nhiệm  vụ  bồi  thần  Tòa  nội  vụ</td>\n",
       "      <td>0.536811</td>\n",
       "      <td>{'rouge1': 0.8333333333333333, 'rouge2': 0.6440677966101694, 'rougeL': 0.6833333333333333, 'rougeLsum': 0.6833333333333333}</td>\n",
       "      <td>0.963403</td>\n",
       "    </tr>\n",
       "    <tr>\n",
       "      <th>8</th>\n",
       "      <td>Điều &lt;extra_id_0&gt; &lt;extra_id_1&gt; thúc thời gian thử việc \\n &lt;extra_id_2&gt; Khi kết thúc &lt;extra_id_3&gt; &lt;extra_id_4&gt; thử việc, &lt;extra_id_5&gt; sử dụng lao động &lt;extra_id_6&gt; thông báo kết quả thử &lt;extra_id_7&gt; cho người lao động. \\n Trường hợp thử &lt;extra_id_8&gt; đạt &lt;extra_id_9&gt; cầu thì người sử dụng lao &lt;extra_id_10&gt; tiếp tục thực hiện hợp đồng lao động đã giao kết đối với trường hợp thỏa &lt;extra_id_11&gt; thử việc &lt;extra_id_12&gt; &lt;extra_id_13&gt; &lt;extra_id_14&gt; lao động hoặc phải giao kết hợp &lt;extra_id_15&gt; &lt;extra_id_16&gt; &lt;extra_id_17&gt; đối với &lt;extra_id_18&gt; hợp giao kết &lt;extra_id_19&gt; đồng &lt;extra_id_20&gt; việc. \\n Trường hợp &lt;extra_id_21&gt; việc không đạt yêu cầu thì &lt;extra_id_22&gt; dứt hợp &lt;extra_id_23&gt; lao động đã &lt;extra_id_24&gt; kết hoặc hợp đồng thử &lt;extra_id_25&gt; \\n 2. Trong thời gian &lt;extra_id_26&gt; việc, &lt;extra_id_27&gt; bên có quyền hủy &lt;extra_id_28&gt; hợp &lt;extra_id_29&gt; thử việc hoặc hợp đồng lao động đã giao &lt;extra_id_30&gt; mà &lt;extra_id_31&gt; cần báo trước &lt;extra_id_32&gt; &lt;extra_id_33&gt; phải bồi thường.</td>\n",
       "      <td>27.  Kết  1.  thời  gian  người  phải  việc  việc  yêu  động  thuận  trong  hợp  đồng  đồng  lao  động  trường  hợp  thử  thử  chấm  đồng  giao  việc.  thử  mỗi  bỏ  đồng  kết  không  và  không</td>\n",
       "      <td>258.  kết  1.  thời  gian  việc,  người  phải  việc  yêu  hợp  đồng  thuận  về  việc  không  thỏa  hoặc  đồng  việc  khác  thử  chấm  các  đồng  đã  giao  công  nếu  lý  thì  đơn  và  đồng  việc</td>\n",
       "      <td>0.132860</td>\n",
       "      <td>{'rouge1': 0.7047619047619048, 'rouge2': 0.44660194174757284, 'rougeL': 0.5333333333333333, 'rougeLsum': 0.5333333333333333}</td>\n",
       "      <td>0.941423</td>\n",
       "    </tr>\n",
       "    <tr>\n",
       "      <th>9</th>\n",
       "      <td>Điều 12. Tự &lt;extra_id_0&gt; vệ quyền &lt;extra_id_1&gt; sự \\n &lt;extra_id_2&gt; tự &lt;extra_id_3&gt; vệ quyền dân sự phải phù hợp với &lt;extra_id_4&gt; &lt;extra_id_5&gt; mức độ &lt;extra_id_6&gt; phạm đến quyền dân sự &lt;extra_id_7&gt; &lt;extra_id_8&gt; không &lt;extra_id_9&gt; trái với &lt;extra_id_10&gt; nguyên tắc cơ bản của pháp luật dân sự &lt;extra_id_11&gt; định tại Điều 3 của Bộ &lt;extra_id_12&gt; này.</td>\n",
       "      <td>bảo  dân  Việc  bảo  tính  chất,  xâm  đó  và  được  các  quy  luật</td>\n",
       "      <td>bảo  dân  Việc  bảo  tính  chất,  xâm  đó  và  được  các  quy  luật</td>\n",
       "      <td>1.000000</td>\n",
       "      <td>{'rouge1': 1.0, 'rouge2': 1.0, 'rougeL': 1.0, 'rougeLsum': 1.0}</td>\n",
       "      <td>1.000000</td>\n",
       "    </tr>\n",
       "  </tbody>\n",
       "</table>\n",
       "</div>"
      ],
      "text/plain": [
       "                                                                                                                                                                                                                                                                                                                                                                                                                                                                                                                                                                                                                                                                                                                                                                                                                                                                                                                                                                                                                                                                                                                                                                                                                                                                                                                                                                                                                                                                                                                                                                                                                                                                                                                                                                                                                                                                                                                                                                                                                                                                                                                                                                                                                                                                                                                                                                                                                                                                                                                                                                                                                                                                                                                                                                                   question  \\\n",
       "0                                                                                                                                                                                                                                                                                                                                                                                                                                                                                                                                                                                                                                                                                                                                                                                                                                                                                                                                                                                                                                                                                                                                                                                                                                                                                                                                                                                                                                                                                                                                                                                                                                                                                                                                                                                                                                                        Điều 159. Ký phát <extra_id_0> đơn \\n <extra_id_1> Theo <extra_id_2> cầu của <extra_id_3> giao <extra_id_4> người vận chuyển có nghĩa <extra_id_5> <extra_id_6> phát cho người giao hàng một bộ vận đơn. \\n <extra_id_7> <extra_id_8> đơn có thể <extra_id_9> ký phát dưới dạng sau đây: \\n a) Ghi rõ <extra_id_10> người <extra_id_11> <extra_id_12> gọi là vận đơn đích danh; \\n <extra_id_13> Ghi rõ tên <extra_id_14> giao hàng hoặc tên <extra_id_15> người do người <extra_id_16> hàng chỉ định <extra_id_17> <extra_id_18> trả hàng, gọi là vận đơn theo lệnh; \\n c) Không <extra_id_19> rõ tên người nhận hàng <extra_id_20> <extra_id_21> phát lệnh <extra_id_22> <extra_id_23> gọi là vận đơn vô danh. \\n 3. Trường hợp trong vận <extra_id_24> theo lệnh không <extra_id_25> rõ tên người phát lệnh <extra_id_26> <extra_id_27> thì người giao <extra_id_28> mặc nhiên được <extra_id_29> là người có <extra_id_30> đó.   \n",
       "1  Điều 296. Tội <extra_id_0> <extra_id_1> <extra_id_2> định về sử dụng <extra_id_3> lao động dưới 16 tuổi \\n 1. Người nào sử dụng người <extra_id_4> 16 tuổi làm những công việc <extra_id_5> nhọc, nguy hiểm hoặc tiếp xúc với các <extra_id_6> độc hại theo danh mục <extra_id_7> Nhà nước <extra_id_8> <extra_id_9> thuộc một trong <extra_id_10> trường hợp sau đây, thì bị phạt <extra_id_11> từ <extra_id_12> đồng <extra_id_13> 200.000.000 <extra_id_14> <extra_id_15> cải tạo không giam giữ <extra_id_16> <extra_id_17> năm hoặc phạt tù từ <extra_id_18> tháng <extra_id_19> <extra_id_20> năm: \\n a) Đã <extra_id_21> xử phạt vi phạm hành <extra_id_22> về <extra_id_23> <extra_id_24> <extra_id_25> hoặc đã bị kết <extra_id_26> <extra_id_27> tội này, chưa được xóa án tích mà còn vi phạm; \\n b) Gây thương tích hoặc <extra_id_28> <extra_id_29> hại cho sức <extra_id_30> của <extra_id_31> người với <extra_id_32> <extra_id_33> tổn thương cơ thể từ 31% đến 60%; \\n c) Gây thương tích hoặc gây tổn <extra_id_34> <extra_id_35> sức <extra_id_36> của 02 người <extra_id_37> lên mà <extra_id_38> <extra_id_39> lệ tổn thương cơ thể của những người <extra_id_40> từ 31% đến <extra_id_41> \\n 2. Phạm tội thuộc một <extra_id_42> <extra_id_43> <extra_id_44> hợp sau đây, thì bị phạt <extra_id_45> từ 03 năm đến <extra_id_46> năm: \\n a) Phạm <extra_id_47> 02 lần trở lên; \\n b) Đối <extra_id_48> 02 người trở lên; \\n <extra_id_49> Làm chết 01 <extra_id_50> hoặc gây <extra_id_51> tích hoặc gây tổn hại <extra_id_52> sức <extra_id_53> 01 người với <extra_id_54> <extra_id_55> tổn thương cơ thể 61% trở lên; \\n d) <extra_id_56> thương tích <extra_id_57> gây tổn hại cho <extra_id_58> khỏe của 02 người với tỷ lệ tổn thương cơ thể <extra_id_59> <extra_id_60> <extra_id_61> từ 31% đến <extra_id_62> \\n đ) <extra_id_63> thương tích <extra_id_64> gây tổn hại cho sức khỏe của 03 người trở lên mà tổng tỷ lệ tổn thương cơ <extra_id_65> của những <extra_id_66> <extra_id_67> 61% <extra_id_68> <extra_id_69> \\n 3. Phạm tội thuộc một trong các trường hợp <extra_id_70> <extra_id_71> thì bị phạt tù <extra_id_72> 05 năm đến <extra_id_73> <extra_id_74> \\n <extra_id_75> Làm chết 02 người trở lên; \\n b) Gây thương tích hoặc <extra_id_76> tổn hại cho <extra_id_77> <extra_id_78> của 02 người trở lên với <extra_id_79> <extra_id_80> tổn <extra_id_81> <extra_id_82> thể của mỗi người 61% trở lên; \\n <extra_id_83> Gây thương tích hoặc gây tổn <extra_id_84> cho sức khỏe của <extra_id_85> người trở <extra_id_86> <extra_id_87> tổng tỷ lệ tổn thương cơ thể của những <extra_id_88> này <extra_id_89> trở lên. \\n 4. <extra_id_90> phạm <extra_id_91> còn có thể bị phạt tiền từ 10.000.000 đồng đến <extra_id_92> <extra_id_93>   \n",
       "2                                                                                                                                                                                                                                                                                                                                                                                                                                                                                                                                                                                                                                                                                                                                                                                                                                                                                                                                                                                                                                                                                                                                                                                                                                                                                                                                                                                                                                                                                                                                                                                                                                                                                                                                                                                                                                                                                                                                                                                                                                                                                                                                                                                                                                                                                                            Điều 313. Nghe, xem <extra_id_0> dung được ghi âm hoặc ghi hình <extra_id_1> <extra_id_2> thanh \\n Trường hợp <extra_id_3> kiểm tra chứng cứ, tài liệu, <extra_id_4> vật liên quan <extra_id_5> vụ án <extra_id_6> khi bị cáo <extra_id_7> <extra_id_8> bị bức <extra_id_9> dùng nhục hình, <extra_id_10> đồng <extra_id_11> xử quyết <extra_id_12> việc cho nghe, xem nội dung <extra_id_13> <extra_id_14> âm hoặc ghi hình có <extra_id_15> thanh liên quan tại phiên tòa.   \n",
       "3                                                                                                                                                                                                                                                                                                                                                                                                                                                                                                                                                                                                                                                                                                                                                                                                                                                                                                                                                                                                                                                                                                                                                                                                                                                                                                                                                                                                                                                                                                                       Điều 202. Thực hiện quyền <extra_id_0> hữu toàn dân <extra_id_1> với <extra_id_2> <extra_id_3> <extra_id_4> giao cho <extra_id_5> chức chính trị, tổ chức chính trị - xã hội, tổ <extra_id_6> <extra_id_7> trị xã hội - nghề nghiệp, tổ chức xã hội, tổ <extra_id_8> xã <extra_id_9> - <extra_id_10> nghiệp \\n 1. Khi tài <extra_id_11> thuộc sở hữu <extra_id_12> dân được <extra_id_13> cho <extra_id_14> chức chính trị, tổ <extra_id_15> chính trị - <extra_id_16> <extra_id_17> tổ <extra_id_18> chính trị xã <extra_id_19> - <extra_id_20> nghiệp, tổ chức <extra_id_21> hội, tổ <extra_id_22> xã <extra_id_23> - nghề <extra_id_24> thì Nhà nước thực hiện quyền kiểm tra, giám sát việc quản lý, sử dụng tài sản <extra_id_25> \\n <extra_id_26> Tổ chức chính trị, tổ chức chính trị - xã hội, tổ <extra_id_27> chính trị <extra_id_28> hội <extra_id_29> nghề nghiệp, tổ chức xã hội, tổ chức <extra_id_30> hội - <extra_id_31> nghiệp thực hiện <extra_id_32> quản lý, sử <extra_id_33> tài sản được Nhà nước <extra_id_34> đúng mục đích, <extra_id_35> vi, theo cách thức, trình <extra_id_36> <extra_id_37> pháp luật <extra_id_38> định, phù <extra_id_39> <extra_id_40> chức năng, <extra_id_41> vụ được <extra_id_42> định trong điều <extra_id_43>   \n",
       "4                                                                                                                                                                                                                                                                                                                                                                                                                                                                                                                                                                                                                                                                                                                                                                                                                                                                                                                                                                                                                                                                                                                                                                                                                                                                                                                                                                      Điều 3. Các nguyên tắc <extra_id_0> bản của pháp <extra_id_1> <extra_id_2> sự \\n 1. Mọi cá <extra_id_3> pháp <extra_id_4> đều <extra_id_5> <extra_id_6> <extra_id_7> được lấy <extra_id_8> kỳ lý do nào để <extra_id_9> biệt đối xử; được pháp luật bảo hộ như <extra_id_10> về các quyền nhân thân và <extra_id_11> sản. \\n 2. Cá <extra_id_12> pháp nhân xác <extra_id_13> thực <extra_id_14> chấm <extra_id_15> quyền, nghĩa vụ dân <extra_id_16> <extra_id_17> <extra_id_18> trên cơ sở tự do, tự <extra_id_19> cam kết, <extra_id_20> thuận. Mọi cam kết, thỏa thuận không vi <extra_id_21> điều cấm của luật, <extra_id_22> <extra_id_23> đạo đức xã hội có <extra_id_24> lực thực hiện đối với <extra_id_25> <extra_id_26> và phải được chủ thể khác <extra_id_27> trọng. \\n <extra_id_28> Cá <extra_id_29> pháp <extra_id_30> phải xác lập, thực hiện, chấm dứt quyền, nghĩa vụ dân <extra_id_31> <extra_id_32> mình một cách thiện <extra_id_33> trung thực. \\n 4. Việc xác lập, thực <extra_id_34> chấm dứt quyền, nghĩa <extra_id_35> dân <extra_id_36> không được xâm <extra_id_37> <extra_id_38> lợi ích <extra_id_39> gia, <extra_id_40> tộc, lợi ích công cộng, quyền và <extra_id_41> ích hợp pháp của người <extra_id_42> \\n 5. Cá nhân, <extra_id_43> nhân phải tự chịu <extra_id_44> nhiệm về <extra_id_45> <extra_id_46> thực hiện hoặc <extra_id_47> hiện không đúng nghĩa vụ dân <extra_id_48>   \n",
       "5                                                                                                                                                                                                                                                                                                                                                                                                                                                                                                                                                                                                                                                                                                                                                                                                                                                                                                                                                                                                                                                                                                                                                                                                                                                                                                                                                                                                                                                                                                                                                                                                                                                                                                                                                                                                                                                                                 Điều 21. <extra_id_0> tên tàu <extra_id_1> Việt Nam \\n Tàu biển <extra_id_2> Nam phải được đặt tên và <extra_id_3> <extra_id_4> tắc sau đây: \\n 1. Tên tàu biển do chủ tàu <extra_id_5> <extra_id_6> không được trùng với <extra_id_7> tàu biển <extra_id_8> đăng <extra_id_9> trong Sổ đăng ký <extra_id_10> biển quốc gia Việt <extra_id_11> \\n <extra_id_12> <extra_id_13> sử dụng tên cơ quan nhà nước, đơn <extra_id_14> lực lượng vũ trang, tổ chức <extra_id_15> <extra_id_16> tổ chức chính <extra_id_17> - <extra_id_18> hội <extra_id_19> làm toàn <extra_id_20> hoặc một phần <extra_id_21> của <extra_id_22> biển, trừ trường hợp có sự chấp <extra_id_23> của cơ quan, đơn <extra_id_24> hoặc tổ chức đó; \\n 3. Không <extra_id_25> dụng từ ngữ, ký hiệu <extra_id_26> phạm truyền thống lịch sử, văn hóa, đạo <extra_id_27> và thuần <extra_id_28> <extra_id_29> tục của <extra_id_30> tộc.   \n",
       "6                                                                                                                                                                                                                                                                                                                                                                                                                                                                                                                                                                                                                                                                                                                                                                                                                                                                                                                                                                                                                                                                                                                                                                                                                                                                                                                                                                                                                                                                                                                                                                                                                                                                                                                                                                                                                                                                         Điều 388. <extra_id_0> <extra_id_1> của Hội đồng giám đốc thẩm \\n 1. Không chấp nhận kháng nghị <extra_id_2> giữ nguyên <extra_id_3> <extra_id_4> <extra_id_5> định <extra_id_6> có hiệu lực pháp luật bị kháng nghị. \\n 2. Hủy bản án, quyết định đã có hiệu lực <extra_id_7> <extra_id_8> và <extra_id_9> nguyên bản án, quyết <extra_id_10> đúng pháp luật của <extra_id_11> <extra_id_12> cấp sơ thẩm hoặc <extra_id_13> án <extra_id_14> phúc thẩm bị hủy, sửa <extra_id_15> đúng pháp <extra_id_16> \\n 3. Hủy bản <extra_id_17> quyết <extra_id_18> đã có hiệu <extra_id_19> <extra_id_20> luật để điều tra <extra_id_21> hoặc xét xử lại. \\n <extra_id_22> Hủy bản án, quyết định <extra_id_23> có hiệu <extra_id_24> pháp luật và đình chỉ <extra_id_25> án. \\n 5. Sửa bản <extra_id_26> quyết định đã có hiệu lực <extra_id_27> <extra_id_28> \\n 6. Đình chỉ xét xử <extra_id_29> <extra_id_30> thẩm.   \n",
       "7                                                                                                                                                                                                                                                                                                                                                                                                                                                                                                                                                                                                                                                                                                                                                                                                                                                                                                                                                                                                                                                                                                                                                                                                                                                                                                                                                                                                                                                                                                                                                                                                                                                               Điều 419. Thiệt hại được <extra_id_0> <extra_id_1> <extra_id_2> vi phạm hợp đồng \\n 1. Thiệt <extra_id_3> được bồi thường do <extra_id_4> phạm nghĩa vụ theo <extra_id_5> đồng được xác định theo <extra_id_6> định <extra_id_7> <extra_id_8> <extra_id_9> Điều này, Điều 13 và <extra_id_10> 360 của Bộ luật này. \\n 2. Người có <extra_id_11> có thể <extra_id_12> cầu <extra_id_13> thường thiệt hại cho lợi ích mà lẽ ra mình sẽ <extra_id_14> hưởng <extra_id_15> hợp đồng mang lại. Người có quyền <extra_id_16> có thể yêu <extra_id_17> người có nghĩa <extra_id_18> chi <extra_id_19> <extra_id_20> phí <extra_id_21> sinh do không hoàn thành <extra_id_22> vụ hợp đồng mà không trùng lặp <extra_id_23> <extra_id_24> bồi thường thiệt hại <extra_id_25> lợi <extra_id_26> <extra_id_27> hợp đồng mang lại. \\n 3. Theo <extra_id_28> cầu của người có quyền, Tòa <extra_id_29> có thể buộc <extra_id_30> có <extra_id_31> <extra_id_32> <extra_id_33> thường thiệt hại về tinh <extra_id_34> cho người có quyền. Mức bồi thường do <extra_id_35> án quyết định căn cứ vào <extra_id_36> dung <extra_id_37> việc.   \n",
       "8                                                                                                                                                                                                                                                                                                                                                                                                                                                                                                                                                                                                                                                                                                                                                                                                                                                                                                                                                                                                                                                                                                                                                                                                                                                                                                                                                                                                                                                                                                                                                                                                                                                                                                                                                                       Điều <extra_id_0> <extra_id_1> thúc thời gian thử việc \\n <extra_id_2> Khi kết thúc <extra_id_3> <extra_id_4> thử việc, <extra_id_5> sử dụng lao động <extra_id_6> thông báo kết quả thử <extra_id_7> cho người lao động. \\n Trường hợp thử <extra_id_8> đạt <extra_id_9> cầu thì người sử dụng lao <extra_id_10> tiếp tục thực hiện hợp đồng lao động đã giao kết đối với trường hợp thỏa <extra_id_11> thử việc <extra_id_12> <extra_id_13> <extra_id_14> lao động hoặc phải giao kết hợp <extra_id_15> <extra_id_16> <extra_id_17> đối với <extra_id_18> hợp giao kết <extra_id_19> đồng <extra_id_20> việc. \\n Trường hợp <extra_id_21> việc không đạt yêu cầu thì <extra_id_22> dứt hợp <extra_id_23> lao động đã <extra_id_24> kết hoặc hợp đồng thử <extra_id_25> \\n 2. Trong thời gian <extra_id_26> việc, <extra_id_27> bên có quyền hủy <extra_id_28> hợp <extra_id_29> thử việc hoặc hợp đồng lao động đã giao <extra_id_30> mà <extra_id_31> cần báo trước <extra_id_32> <extra_id_33> phải bồi thường.   \n",
       "9                                                                                                                                                                                                                                                                                                                                                                                                                                                                                                                                                                                                                                                                                                                                                                                                                                                                                                                                                                                                                                                                                                                                                                                                                                                                                                                                                                                                                                                                                                                                                                                                                                                                                                                                                                                                                                                                                                                                                                                                                                                                                                                                                                                                                                                                                                                                                                                                                                 Điều 12. Tự <extra_id_0> vệ quyền <extra_id_1> sự \\n <extra_id_2> tự <extra_id_3> vệ quyền dân sự phải phù hợp với <extra_id_4> <extra_id_5> mức độ <extra_id_6> phạm đến quyền dân sự <extra_id_7> <extra_id_8> không <extra_id_9> trái với <extra_id_10> nguyên tắc cơ bản của pháp luật dân sự <extra_id_11> định tại Điều 3 của Bộ <extra_id_12> này.   \n",
       "\n",
       "                                                                                                                                                                                                                                                                                                                                                                                                                                                                                                                true_response  \\\n",
       "0                                                                                                                                                                                                                                                                                                                                                vận  1.  yêu  người  hàng,  vụ  ký  2.  Vận  được  tên  nhận  hàng,  b)  người  những  giao  phát  lệnh  ghi  hoặc  người  trả  hàng,  đơn  ghi  trả  hàng  hàng  coi  quyền   \n",
       "1   vi  phạm  quy  người  dưới  nặng  chất  mà  quy  định  các  tiền  30.000.000  đến  đồng,  phạt  đến  03  06  đến  03  bị  chính  hành  vi  này  án  về  gây  tổn  khỏe  01  tỷ  lệ  hại  cho  khỏe  trở  tổng  tỷ  này  60%.  trong  các  trường  tù  07  tội  với  c)  người  thương  cho  khỏe  tỷ  lệ  Gây  hoặc  sức  của  mỗi  người  60%;  Gây  hoặc  thể  người  này  trở  lên.  sau  đây,  từ  10  năm.  a)  gây  sức  khỏe  tỷ  lệ  thương  cơ  c)  hại  03  lên  mà  người  122%  Người  tội  50.000.000  đồng.   \n",
       "2                                                                                                                                                                                                                                                                                                                                                                                                                                              nội  có  âm  cần  đồ  đến  hoặc  tố  cáo  cung,  Hội  xét  định  được  ghi  âm   \n",
       "3                                                                                                                                                                                                                                                                                      sở  đối  tài  sản  được  tổ  chức  chính  chức  hội  nghề  sản  toàn  giao  tổ  chức  xã  hội,  chức  hội  nghề  xã  chức  hội  nghiệp  đó.  2.  chức  xã  -  xã  nghề  việc  dụng  giao  phạm  tự  do  quy  hợp  với  nhiệm  quy  lệ.   \n",
       "4                                                                                                                                                                                                                                    cơ  luật  dân  nhân,  nhân  bình  đẳng,  không  bất  phân  nhau  tài  nhân,  lập,  hiện,  dứt  sự  của  mình  nguyện  thỏa  phạm  không  trái  hiệu  các  bên  tôn  3.  nhân,  nhân  sự  của  chí,  hiện,  vụ  sự  phạm  đến  quốc  dân  lợi  khác.  pháp  trách  việc  không  thực  sự.   \n",
       "5                                                                                                                                                                                                                                                                                                                                                            Đặt  biển  Việt  theo  nguyên  đặt  nhưng  tên  đã  ký  tàu  Nam;  2.  Không  vị  chính  trị,  trị  xã  để  bộ  tên  tàu  thuận  vị  sử  vi  đức  phong  mỹ  dân   \n",
       "6                                                                                                                                                                                                                                                                                                                                                       Thẩm  quyền  và  bản  án,  quyết  đã  pháp  luật  giữ  định  Tòa  án  Tòa  cấp  không  luật.  án,  định  lực  pháp  lại  4.  đã  lực  vụ  án,  pháp  luật.  giám  đốc   \n",
       "7                                                                                                                                                                                                                                                                                                                         bồi  thường  do  hại  vi  hợp  quy  tại  khoản  2  Điều  quyền  yêu  bồi  được  do  còn  cầu  vụ  trả  chi  phát  nghĩa  với  mức  cho  ích  mà  yêu  án  người  nghĩa  vụ  bồi  thần  Tòa  nội  vụ   \n",
       "8                                                                                                                                                                                                                                                                                                                           27.  Kết  1.  thời  gian  người  phải  việc  việc  yêu  động  thuận  trong  hợp  đồng  đồng  lao  động  trường  hợp  thử  thử  chấm  đồng  giao  việc.  thử  mỗi  bỏ  đồng  kết  không  và  không   \n",
       "9                                                                                                                                                                                                                                                                                                                                                                                                                                                         bảo  dân  Việc  bảo  tính  chất,  xâm  đó  và  được  các  quy  luật   \n",
       "\n",
       "                                                                                                                                                                                                                                                                                                                                                                              predicted_response  \\\n",
       "0                                                                                                                                                                                                                vận  1.  yêu  người  hàng,  vụ  ký  2.  Vận  tên  giao  hàng  b)  người  nhận  c)  người  gửi  hoặc  của  cho  biết  phải  hàng;  ghi  đúng  người  hàng  và  hàng  nhận  quyền   \n",
       "1  phạm  quy  người  dưới  động  nặng  chất  hoá  phẩm  của  nước  thì  phạt  đến  50%;  phạt  tù  30  trở  mức  tịch.  6.  phạm  sau  đây,  bị  án  năm,  7.  phạm  tỷ  thương  cơ  thể  tăng  từ  60%  trở  tỉ  60%  dân  tỷ  người  đó  còn  lại  tỷ  người  là  quá  lần  trở  thường  trong  phạm  điều  Bộ  luật  này,  không  được  quy  định tại  khoản  Điều  này,  có  quy  định khác.   \n",
       "2                                                                                                                                                                                                                                                                                                    nội  có  phát  hoặc  khác  trong  được  tụng  mà  bị  án  ép  thì  không  vụ  ghi  hình  âm   \n",
       "3                                                                                                                                                                             sở  đối  tài  sản  được  tổ  chức  chính  chức  hội  nghề  xã  -  hợp  chức  hội  nghiệp.  giao  cho  chức  dân,  chức  hội  làng  nông  lâm  ngư  dụng  của  mình.  2.  chức  xã  -  việc  dụng  quy  pháp  luật.   \n",
       "4                                                                                                                       cơ  luật  dân  nhân,  nhân  không  bất  phân  nhau  tài  cá  nhân,  lập,  hiện,  dứt  sự  mình  với  quyền,  thỏa  thể  tôn  3.  nhân,  nhân  tự  bảo  đảm  việc  ích  cộng,  lợi  khác;  hiện,  vụ  sự  của  pháp  trách  về  hành  vi  hại  đến  quốc  dân  lợi  khác.   \n",
       "5                                                                                                                                                                                                                                      Đặt  biển  Việt  theo  nguyên  đặt  và  đã  ký;  2.  Không  tên  dân,  tộc,  chức  xã  hoặc  bộ  tàu  nước,  đoàn  thể  quốc  gia  sử  vi  tập  quán  dân   \n",
       "6                                                                                                                                                                                                                               Quyền  quyết  định  án,  quyết  đã  hiệu  luật  giữ  lại  bản  định  không  của  tòa  án  bị  sửa.  án,  định  lực  pháp  4.  án,  định  lực  tại  vụ  giám  đốc   \n",
       "7                                                                                                                                                                                                bồi  thường  do  hại  vi  hợp  quy  tại  khoản  2  Điều  quyền  yêu  bồi  cho  ích  mà  mình  được  hưởng  nghĩa  vụ  phải  toán  chi  phát  từ  bên  trách  nhiệm  vụ  bồi  thần  Tòa  nội  vụ   \n",
       "8                                                                                                                                                                                             258.  kết  1.  thời  gian  việc,  người  phải  việc  yêu  hợp  đồng  thuận  về  việc  không  thỏa  hoặc  đồng  việc  khác  thử  chấm  các  đồng  đã  giao  công  nếu  lý  thì  đơn  và  đồng  việc   \n",
       "9                                                                                                                                                                                                                                                                                                                            bảo  dân  Việc  bảo  tính  chất,  xâm  đó  và  được  các  quy  luật   \n",
       "\n",
       "       bleu  \\\n",
       "0  0.370723   \n",
       "1  0.057643   \n",
       "2  0.000000   \n",
       "3  0.404111   \n",
       "4  0.459521   \n",
       "5  0.256262   \n",
       "6  0.259845   \n",
       "7  0.536811   \n",
       "8  0.132860   \n",
       "9  1.000000   \n",
       "\n",
       "                                                                                                                          rouge  \\\n",
       "0   {'rouge1': 0.8431372549019608, 'rouge2': 0.5599999999999999, 'rougeL': 0.6862745098039216, 'rougeLsum': 0.6862745098039216}   \n",
       "1   {'rouge1': 0.6854838709677419, 'rouge2': 0.2682926829268293, 'rougeL': 0.3790322580645161, 'rougeLsum': 0.3790322580645161}   \n",
       "2     {'rouge1': 0.6521739130434783, 'rouge2': 0.1818181818181818, 'rougeL': 0.391304347826087, 'rougeLsum': 0.391304347826087}   \n",
       "3   {'rouge1': 0.7777777777777778, 'rouge2': 0.5483870967741935, 'rougeL': 0.5873015873015873, 'rougeLsum': 0.5873015873015873}   \n",
       "4   {'rouge1': 0.8402366863905325, 'rouge2': 0.6227544910179641, 'rougeL': 0.6508875739644969, 'rougeLsum': 0.6508875739644969}   \n",
       "5  {'rouge1': 0.7058823529411764, 'rouge2': 0.40963855421686746, 'rougeL': 0.5411764705882354, 'rougeLsum': 0.5411764705882354}   \n",
       "6                  {'rouge1': 0.7826086956521738, 'rouge2': 0.4, 'rougeL': 0.5652173913043478, 'rougeLsum': 0.5652173913043478}   \n",
       "7   {'rouge1': 0.8333333333333333, 'rouge2': 0.6440677966101694, 'rougeL': 0.6833333333333333, 'rougeLsum': 0.6833333333333333}   \n",
       "8  {'rouge1': 0.7047619047619048, 'rouge2': 0.44660194174757284, 'rougeL': 0.5333333333333333, 'rougeLsum': 0.5333333333333333}   \n",
       "9                                                               {'rouge1': 1.0, 'rouge2': 1.0, 'rougeL': 1.0, 'rougeLsum': 1.0}   \n",
       "\n",
       "   bertscore  \n",
       "0   0.950521  \n",
       "1   0.911160  \n",
       "2   0.915987  \n",
       "3   0.942111  \n",
       "4   0.951967  \n",
       "5   0.939791  \n",
       "6   0.946157  \n",
       "7   0.963403  \n",
       "8   0.941423  \n",
       "9   1.000000  "
      ]
     },
     "execution_count": 70,
     "metadata": {},
     "output_type": "execute_result"
    }
   ],
   "source": [
    "def generate_comparison_responses(eval_df, num_samples=5):\n",
    "    random_indices = random.sample(range(len(eval_df)), num_samples)\n",
    "    results_no_rag = []\n",
    "    results_with_rag = []\n",
    "\n",
    "    # Khởi tạo các chỉ số\n",
    "    bleu_metric = evaluate.load(\"bleu\")\n",
    "    rouge_metric = evaluate.load(\"rouge\")\n",
    "    bertscore_metric = evaluate.load(\"bertscore\")\n",
    "\n",
    "    for idx in random_indices:\n",
    "        sample = eval_df.iloc[idx]\n",
    "        \n",
    "        # Giải mã input_ids và labels\n",
    "        question = sample[\"input_text\"]\n",
    "        true_response = sample[\"target_text\"]\n",
    "        true_response_eval = re.sub(r'<extra_id_\\d+>', '', sample[\"target_text\"])\n",
    "        # Trường hợp không có RAG\n",
    "        predicted_response_no_rag = chatbot_response_no_rag(question)\n",
    "\n",
    "        # Tính BLEU cho cả hai trường hợp\n",
    "        decoded_preds_no_rag = [predicted_response_no_rag.strip()]\n",
    "        decoded_labels = [[true_response_eval.strip()]]\n",
    "\n",
    "        bleu_no_rag = bleu_metric.compute(predictions=decoded_preds_no_rag, references=decoded_labels)[\"bleu\"]\n",
    "\n",
    "        # Tính ROUGE cho cả hai trường hợp\n",
    "        rouge_no_rag = rouge_metric.compute(predictions=decoded_preds_no_rag, references=decoded_labels)\n",
    "\n",
    "        # Tính BERTScore cho cả hai trường hợp\n",
    "        bertscore_no_rag = bertscore_metric.compute(predictions=decoded_preds_no_rag, references=decoded_labels, lang=\"en\")[\"f1\"]\n",
    "\n",
    "        # Append kết quả không có RAG vào results_no_rag\n",
    "        results_no_rag.append({\n",
    "            \"question\": sample[\"input_text\"],\n",
    "            \"true_response\": true_response_eval,\n",
    "            \"predicted_response\": predicted_response_no_rag,\n",
    "            \"bleu\": bleu_no_rag,\n",
    "            \"rouge\": rouge_no_rag,\n",
    "            \"bertscore\": bertscore_no_rag[0]\n",
    "        })\n",
    "\n",
    "    # Tạo DataFrame cho kết quả\n",
    "    df_no_rag = pd.DataFrame(results_no_rag)\n",
    "    \n",
    "    return df_no_rag\n",
    "\n",
    "# Tùy chọn hiển thị và số lượng mẫu\n",
    "pd.set_option('display.max_colwidth', None)\n",
    "num_samples = 10\n",
    "\n",
    "# Giả sử eval_df là DataFrame đã có\n",
    "df_no_rag = generate_comparison_responses(eval_df, num_samples=num_samples)\n",
    "df_no_rag.head(num_samples)"
   ]
  },
  {
   "cell_type": "code",
   "execution_count": 71,
   "metadata": {
    "execution": {
     "iopub.execute_input": "2025-01-29T09:00:53.658631Z",
     "iopub.status.busy": "2025-01-29T09:00:53.657997Z",
     "iopub.status.idle": "2025-01-29T09:00:53.663071Z",
     "shell.execute_reply": "2025-01-29T09:00:53.662034Z",
     "shell.execute_reply.started": "2025-01-29T09:00:53.658596Z"
    },
    "trusted": true
   },
   "outputs": [],
   "source": [
    "pd.reset_option('display.max_colwidth')"
   ]
  }
 ],
 "metadata": {
  "kaggle": {
   "accelerator": "none",
   "dataSources": [
    {
     "datasetId": 6322220,
     "sourceId": 10547074,
     "sourceType": "datasetVersion"
    },
    {
     "isSourceIdPinned": true,
     "sourceId": 238905,
     "sourceType": "modelInstanceVersion"
    }
   ],
   "dockerImageVersionId": 30787,
   "isGpuEnabled": false,
   "isInternetEnabled": true,
   "language": "python",
   "sourceType": "notebook"
  },
  "kernelspec": {
   "display_name": "Python 3",
   "language": "python",
   "name": "python3"
  },
  "language_info": {
   "codemirror_mode": {
    "name": "ipython",
    "version": 3
   },
   "file_extension": ".py",
   "mimetype": "text/x-python",
   "name": "python",
   "nbconvert_exporter": "python",
   "pygments_lexer": "ipython3",
   "version": "3.10.14"
  }
 },
 "nbformat": 4,
 "nbformat_minor": 4
}
